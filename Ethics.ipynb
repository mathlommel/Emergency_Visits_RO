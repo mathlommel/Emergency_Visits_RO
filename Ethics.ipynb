{
 "cells": [
  {
   "attachments": {},
   "cell_type": "markdown",
   "metadata": {},
   "source": [
    "# Séparation et évaluation pour la planification de visites aux urgences\n",
    "\n",
    "<div style=\"text-align: right;\">\n",
    "Mathias LOMMEL\n",
    "    \n",
    "<div style=\"text-align: right;\">\n",
    "Lucas OFFROY\n",
    "\n",
    "<div style=\"text-align: right;\">\n",
    "4MA\n"
   ]
  },
  {
   "attachments": {},
   "cell_type": "markdown",
   "metadata": {},
   "source": [
    "# VI/ Etude de cas pratiques, remise en cause du modèle, éthique de modélisation"
   ]
  },
  {
   "attachments": {},
   "cell_type": "markdown",
   "metadata": {},
   "source": [
    "Nous allons maintenant mener une étude sur certaines instances que nous avons jugé intéressantes à étudier dans le cadre du module. Nous critiquerons les résultats fournis par les algorithmes, essaierons d'expliquer pourquoi ces résultats sont calculés, jusqu'à remonter à la remise en cause de la modélisation initiale du problème. Nous discuterons enfin du lien entre ce projet et l'éthique de modélisation dont on a parlé en cours.\n",
    "\n",
    "Pour cette dernière partie, nous allons utiliser notre deuxième implémentation, le Branch and Bound n°2, puisqu'il fourni une solution optimale le plus rapidement."
   ]
  },
  {
   "attachments": {},
   "cell_type": "markdown",
   "metadata": {},
   "source": [
    "### Instance A : Un patient gravement blessé qui demande une mobilisation très longue, au milieu de patients moins graves."
   ]
  },
  {
   "attachments": {},
   "cell_type": "markdown",
   "metadata": {},
   "source": [
    "Imaginons le cas d'un patient (1) très gravement blessé, qui se plaint de maux de tête et de vomissements. Les autres patients ont juste une petite coupure et ont seulement besoin d'un pansement.\n",
    "\n",
    "Le diagnostique du patient (1) est fait par 4 practiciens, qui jugent donc différement la gravité du patient. Tous concluent qu'une mobilisation très longue dans le bloc sera nécessaire pour observer le sujet. En revanche, l'un pense à un simple malaise, l'autre pense à contusion cérébrale, le troisième à un potentiel infarctus, et le dernier craint une hémoragie cérébrale.\n",
    "\n",
    "On pourrait se demander si même malgré le fait que le patient (1) reste au bloc longtemps, l'estimation de la gravité de ses blessures ait un impact sur son passage en premier.\n",
    "\n",
    "Nous distinguerons ainsi 4 analyses différentes, faites par les 4 praticiens différents. Dans chaque cas, le patient (1) nécessite une longue observation, et ce, tout de suite : D=50 et H=0.\n",
    "Selon l'analyse faite par le praticien, la gravité de l'état du patient sera croissante : nous ne modifierons donc que P entre les 4 analyses."
   ]
  },
  {
   "attachments": {},
   "cell_type": "markdown",
   "metadata": {},
   "source": [
    "#### Practicien 1 : Simple malaise (P=30)"
   ]
  },
  {
   "cell_type": "code",
   "execution_count": 35,
   "metadata": {},
   "outputs": [
    {
     "name": "stdout",
     "output_type": "stream",
     "text": [
      "Pénalités : 482\n",
      "Ordre de passage :\n",
      "\u001b[30m1 -->\u001b[39m\u001b[34m Patient 4\u001b[39m\n",
      "\u001b[30m2 -->\u001b[39m\u001b[34m Patient 3\u001b[39m\n",
      "\u001b[30m3 -->\u001b[39m\u001b[34m Patient 2\u001b[39m\n",
      "\u001b[30m4 -->\u001b[39m\u001b[31m Patient 1\u001b[39m\n"
     ]
    }
   ],
   "source": [
    "P=[30,5,7,8] #Le patient (1) est assez grave\n",
    "D=[50,5,5,5] #Le patient (1) devra être observé longtemps (10 fois plus longtemps que les autres, disons 5h contre 30 mins)\n",
    "H=[0,5,4,3] # Le patient (1) doit passer maintenant\n",
    "\n",
    "printBB(Branch_Bound_v2(P,D,H),[1])"
   ]
  },
  {
   "attachments": {},
   "cell_type": "markdown",
   "metadata": {},
   "source": [
    "On observe ici que le patient (1) passe en dernier."
   ]
  },
  {
   "attachments": {},
   "cell_type": "markdown",
   "metadata": {},
   "source": [
    "#### Practicien 2 : Contusion cérébrale (P=50)"
   ]
  },
  {
   "cell_type": "code",
   "execution_count": 36,
   "metadata": {},
   "outputs": [
    {
     "name": "stdout",
     "output_type": "stream",
     "text": [
      "Pénalités : 782\n",
      "Ordre de passage :\n",
      "\u001b[30m1 -->\u001b[39m\u001b[34m Patient 4\u001b[39m\n",
      "\u001b[30m2 -->\u001b[39m\u001b[34m Patient 3\u001b[39m\n",
      "\u001b[30m3 -->\u001b[39m\u001b[34m Patient 2\u001b[39m\n",
      "\u001b[30m4 -->\u001b[39m\u001b[31m Patient 1\u001b[39m\n"
     ]
    }
   ],
   "source": [
    "P=[50,5,7,8] #Le patient (1) est grave\n",
    "D=[50,5,5,5] #Le patient (1) devra être observé longtemps (10 fois plus longtemps que les autres, disons 5h contre 30 mins)\n",
    "H=[0,5,4,3] # Le patient (1) doit passer maintenant\n",
    "\n",
    "printBB(Branch_Bound_v2(P,D,H),[1])"
   ]
  },
  {
   "attachments": {},
   "cell_type": "markdown",
   "metadata": {},
   "source": [
    "Dans ce second cas, le patient (1) passe en dernier même si il semble nécessaire de la prendre en charge maintenant, d'autant plus que la gravité de son état devient critique (selon l'estimation du practicien 2)."
   ]
  },
  {
   "attachments": {},
   "cell_type": "markdown",
   "metadata": {},
   "source": [
    "#### Practicien 3 : Potentiel infarctus (P=70)"
   ]
  },
  {
   "cell_type": "code",
   "execution_count": 37,
   "metadata": {},
   "outputs": [
    {
     "name": "stdout",
     "output_type": "stream",
     "text": [
      "Pénalités : 982\n",
      "Ordre de passage :\n",
      "\u001b[30m1 -->\u001b[39m\u001b[34m Patient 4\u001b[39m\n",
      "\u001b[30m2 -->\u001b[39m\u001b[34m Patient 3\u001b[39m\n",
      "\u001b[30m3 -->\u001b[39m\u001b[31m Patient 1\u001b[39m\n",
      "\u001b[30m4 -->\u001b[39m\u001b[34m Patient 2\u001b[39m\n"
     ]
    }
   ],
   "source": [
    "P=[70,5,7,8] #Le patient (1) est très grave\n",
    "D=[50,5,5,5] #Le patient (1) devra être observé longtemps (10 fois plus longtemps que les autres, disons 5h contre 30 mins)\n",
    "H=[0,5,4,3] # Le patient (1) doit passer maintenant\n",
    "\n",
    "printBB(Branch_Bound_v2(P,D,H),[1])"
   ]
  },
  {
   "attachments": {},
   "cell_type": "markdown",
   "metadata": {},
   "source": [
    "Dans le cas d'un diagnostic d'infarctus, le patient (1) passe en avant-dernier, alors que son état est vraiment critique, et que, moralement, il devrait passer en priorité."
   ]
  },
  {
   "attachments": {},
   "cell_type": "markdown",
   "metadata": {},
   "source": [
    "#### Practicien 4 : Potentielle hémoragie cérébrale (P=80)"
   ]
  },
  {
   "cell_type": "code",
   "execution_count": 38,
   "metadata": {},
   "outputs": [
    {
     "name": "stdout",
     "output_type": "stream",
     "text": [
      "Pénalités : 1008\n",
      "Ordre de passage :\n",
      "\u001b[30m1 -->\u001b[39m\u001b[31m Patient 1\u001b[39m\n",
      "\u001b[30m2 -->\u001b[39m\u001b[34m Patient 4\u001b[39m\n",
      "\u001b[30m3 -->\u001b[39m\u001b[34m Patient 3\u001b[39m\n",
      "\u001b[30m4 -->\u001b[39m\u001b[34m Patient 2\u001b[39m\n"
     ]
    }
   ],
   "source": [
    "P=[80,5,7,8] #Le patient (1) est très très grave\n",
    "D=[50,5,5,5] #Le patient (1) devra être observé longtemps (10 fois plus longtemps que les autres, disons 5h contre 30 mins)\n",
    "H=[0,5,4,3] # Le patient (1) doit passer maintenant\n",
    "\n",
    "printBB(Branch_Bound_v2(P,D,H),[1])"
   ]
  },
  {
   "attachments": {},
   "cell_type": "markdown",
   "metadata": {},
   "source": [
    "Ce n'est qu'en estimant la gravité de l'état du patient à 80 que l'algorithme fait passer le patient (1) en premier... On peut donc se demander comment quantifier la gravité d'une blessure."
   ]
  },
  {
   "attachments": {},
   "cell_type": "markdown",
   "metadata": {},
   "source": [
    "Cette question soulève des problématiques de choix dans nos valeurs de pénalités, et donc des questionnements sur le regard humain derrière le modèle. Est-ce que réduire la gravité d'une blessure à un simple nombre est cohérent ? \n",
    "\n",
    "De plus, on pourrait toujours contredire le choix de notre \"nombre de gravité\" en fonction des instances. De plus, une évaluation succinte de la gravité d'une blessure est plutôt imprécise. Et les différent practiciens n'évaluent pas de la même manière les blessures, ce qui casse toute notion de \"normalité\".\n",
    "\n",
    "Quantifier la gravité des blessures par les pénalités est donc remis en cause, ce qui justifie la nécessité d'avoir un regard humain lors des choix de la modélisation et des résultats du modèle. \n",
    "\n",
    "Nous pouvons ainsi mettre en lien cet exemple d'instances au texte étudié en cours: $\\underline{Du \\ bon \\ usage \\ des \\ modèles \\ mathématiques}$ de Ivar EKELAND. En effet, le modèle d'étude est simplifié, on résume un phénomène humain (gravité de la blessure) par des valeurs numériques. De plus, ces valeurs peuvent être estimées de différentes manières. \n",
    "Si ces hypothèses simplifiées sont fausses ou pas assez justes, le modèle donnera un ordre lui aussi erroné (\"Garbage in, Garbage out\"). Ceci montre bien la complexité de modéliser des phénomènes humains, d'autant plus lorsque la modélisation touche à la santé humaine. \n",
    "\n",
    "\n",
    "On pourrait affiner le modèle en le complexifiant davantage, en définissant une règle quant aux pénalités, en adaptant les valeurs en fonction de la situation actuelle des urgences, du nombre de patients, de la gravité de chacun, ..etc.\n",
    "\n",
    "Enfin, pour reprendre notre exemple, c'est seulement à partir d'un certain seuil que notre patient (1) passe d'avant-dernier à premier, donc l'ordre de passage est très sensible aux valeurs de pénalités dans cet exemple. Ceci montre une autre faille du modèle..."
   ]
  },
  {
   "attachments": {},
   "cell_type": "markdown",
   "metadata": {},
   "source": [
    " ### Instance B : Deux patients identiques gravement blessés qui demandent une mobilisation très longue, au milieu de patients moins graves."
   ]
  },
  {
   "attachments": {},
   "cell_type": "markdown",
   "metadata": {},
   "source": [
    "Imaginons cette fois que deux patients arrivent aux urgences en même temps. Le patient (1) présente des plaies par arme blanche au niveau de l'abdomen, le patient (2) est sujet à une crise d'épilepsie. \n",
    "\n",
    "Il doivent tous deux être pris en charge sur le champ. \n",
    "\n",
    "On propose ici 3 modélisations différentes pour le problème considéré : à chaque fois, nous modifions la pénalité accordée à chaque patient."
   ]
  },
  {
   "cell_type": "code",
   "execution_count": 39,
   "metadata": {},
   "outputs": [
    {
     "name": "stdout",
     "output_type": "stream",
     "text": [
      "Pénalités : 4038\n",
      "Ordre de passage :\n",
      "\u001b[30m1 -->\u001b[39m\u001b[34m Patient 5\u001b[39m\n",
      "\u001b[30m2 -->\u001b[39m\u001b[34m Patient 4\u001b[39m\n",
      "\u001b[30m3 -->\u001b[39m\u001b[34m Patient 3\u001b[39m\n",
      "\u001b[30m4 -->\u001b[39m\u001b[31m Patient 2\u001b[39m\n",
      "\u001b[30m5 -->\u001b[39m\u001b[31m Patient 1\u001b[39m\n"
     ]
    }
   ],
   "source": [
    "P=[50,50,6,8,7] #Les patient 1 et 2 estimés à graves\n",
    "D=[50,50,5,5,5] #Les patient (1) et (2) devront être observés longtemps\n",
    "H=[0,0,5,4,3] # Les patients (1) et (2) doivent passer maintenant\n",
    "\n",
    "printBB(Branch_Bound_v2(P,D,H),[1,2])"
   ]
  },
  {
   "cell_type": "code",
   "execution_count": 40,
   "metadata": {},
   "outputs": [
    {
     "name": "stdout",
     "output_type": "stream",
     "text": [
      "Pénalités : 5538\n",
      "Ordre de passage :\n",
      "\u001b[30m1 -->\u001b[39m\u001b[34m Patient 5\u001b[39m\n",
      "\u001b[30m2 -->\u001b[39m\u001b[34m Patient 4\u001b[39m\n",
      "\u001b[30m3 -->\u001b[39m\u001b[31m Patient 2\u001b[39m\n",
      "\u001b[30m4 -->\u001b[39m\u001b[31m Patient 1\u001b[39m\n",
      "\u001b[30m5 -->\u001b[39m\u001b[34m Patient 3\u001b[39m\n"
     ]
    }
   ],
   "source": [
    "P=[70,70,6,8,7] #Les patient 1 et 2 estimés à très graves\n",
    "D=[50,50,5,5,5] #Les patient (1) et (2) devront être observés longtemps\n",
    "H=[0,0,5,4,3] # Les patients (1) et (2) doivent passer maintenant\n",
    "\n",
    "printBB(Branch_Bound_v2(P,D,H),[1,2])"
   ]
  },
  {
   "attachments": {},
   "cell_type": "markdown",
   "metadata": {},
   "source": [
    "De la même manière que dans l'instance A, si la gravité estimée n'est pas assez grande, les deux patients passent en dernier ce qui est un choix immoral. De la même manière, augmenter légèrement la pénalité peut les faire remonter dans la file d'attente, bien que certains patients moins urgents passent tout de même en priorité."
   ]
  },
  {
   "cell_type": "code",
   "execution_count": 41,
   "metadata": {},
   "outputs": [
    {
     "name": "stdout",
     "output_type": "stream",
     "text": [
      "Pénalités : 6112\n",
      "Ordre de passage :\n",
      "\u001b[30m1 -->\u001b[39m\u001b[31m Patient 2\u001b[39m\n",
      "\u001b[30m2 -->\u001b[39m\u001b[34m Patient 4\u001b[39m\n",
      "\u001b[30m3 -->\u001b[39m\u001b[31m Patient 1\u001b[39m\n",
      "\u001b[30m4 -->\u001b[39m\u001b[34m Patient 5\u001b[39m\n",
      "\u001b[30m5 -->\u001b[39m\u001b[34m Patient 3\u001b[39m\n"
     ]
    }
   ],
   "source": [
    "P=[80,80,6,8,7] #Les patient 1 et 2 estimés à très très graves\n",
    "D=[50,50,5,5,5] #Les patient (1) et (2) devront être observés longtemps\n",
    "H=[0,0,5,4,3] # Les patients (1) et (2) doivent passer maintenant\n",
    "\n",
    "printBB(Branch_Bound_v2(P,D,H),[1,2])"
   ]
  },
  {
   "attachments": {},
   "cell_type": "markdown",
   "metadata": {},
   "source": [
    "Pour cette dernière instance, bien qu'ils soient identiques, le patient (2) passe en 1er et le patient (1) en 3ème. Les deux patients sont bien identiques, mais pourquoi le patient (2) ne passerai pas en 3e, et le (1) et 1er ? Ceci est en réalité dû à la manière dont on a implémenté le code : nous parcourons l'arbre d'une certaine manière, et dans un certain ordre. Dès l'écriture du code, nous avons déjà fait un choix. Le problème est ici que ce choix a des conséquences au niveau Humain : une personne va être privilégiée. \n",
    "\n",
    "De plus, on observe que le patient (4) s'entremêle entre les 2 patients urgents, alors qu'il n'est pas si urgent, et ne devrait donc pas passer à cette position. \n",
    "\n",
    "Nous observons ainsi que le problème observé précédemment se renforce lorsque nous considérons plusieurs patients urgents. Les urgences accueillant chaque minute de tels patients, il semble assez clair que l'utilisation de tels algorithmes dans la réalité nécessite une grande précaution."
   ]
  },
  {
   "attachments": {},
   "cell_type": "markdown",
   "metadata": {},
   "source": [
    "De plus, un autre facteur est à prendre en compte. En effet, les patients ont beau être identiques, leur blessure n'est pas la même, et donc les soins administrés ne seront pas identiques. Ainsi, il est tout à fait imaginable que le bloc opératoire permettant de retirer le couteau de l'abdomen du patient (1) soit disponible avant celui nécessaire au traitement de la crise d'épilepsie du patient (2). \n",
    "\n",
    "Dans ce cas, il serait tout à fait pertinent de traiter le patient (1) en premier. Or, cet aspect de blocs opératoires n'est pas traité dans le modèle : encore une fois, la réalité est simplifiée. \n",
    "\n",
    "Nous pouvons d'ailleurs faire référence au texte de Viviane Despret, $\\underline{Habiter \\ en \\ Oiseau}$. En effet, ce texte précise que les modèles \"économiques\" sont tous simplifiés et que l' \"individualité indisciplinée\" est éradiquée dans ces modèles. Cette instance en est un très bon exemple : les patients sont vus comme identiques par le modèle et sont traités de la même manière, alors qu'en réalité, la décision de l'ordre de passage se doit d'être plus complexe."
   ]
  },
  {
   "attachments": {},
   "cell_type": "markdown",
   "metadata": {},
   "source": [
    "### Instance C : Un patient grave et un patient plus grave au milieu de patients moins graves."
   ]
  },
  {
   "attachments": {},
   "cell_type": "markdown",
   "metadata": {},
   "source": [
    "Imaginons, pour cette instance qu'un patient (1) vient d'être héliporté après une chute en ski. Il a plusieurs os de cassés. Le patient (2), quant à lui, est entre la vie et la mort après un incendie.\n",
    "\n",
    "Moralement, on devrait croire que le patient (2) est dans un état plus grave que le patient (1). Nous lui affecterons donc une pénalité supérieure. \n",
    "\n",
    "De plus, les deux patients devront rester longtemps au bloc opératoire. Le patient (2) devra cependant être pris en charge sur le champ, le patient (1), lui, ne devra pas tarder à être pris en compte."
   ]
  },
  {
   "cell_type": "code",
   "execution_count": 42,
   "metadata": {},
   "outputs": [
    {
     "name": "stdout",
     "output_type": "stream",
     "text": [
      "Pénalités : 4182\n",
      "Ordre de passage :\n",
      "\u001b[30m1 -->\u001b[39m\u001b[34m Patient 5\u001b[39m\n",
      "\u001b[30m2 -->\u001b[39m\u001b[34m Patient 4\u001b[39m\n",
      "\u001b[30m3 -->\u001b[39m\u001b[31m Patient 2\u001b[39m\n",
      "\u001b[30m4 -->\u001b[39m\u001b[34m Patient 3\u001b[39m\n",
      "\u001b[30m5 -->\u001b[39m\u001b[31m Patient 1\u001b[39m\n",
      "Pénalités : 4208\n",
      "Ordre de passage :\n",
      "\u001b[30m1 -->\u001b[39m\u001b[31m Patient 2\u001b[39m\n",
      "\u001b[30m2 -->\u001b[39m\u001b[34m Patient 5\u001b[39m\n",
      "\u001b[30m3 -->\u001b[39m\u001b[34m Patient 4\u001b[39m\n",
      "\u001b[30m4 -->\u001b[39m\u001b[34m Patient 3\u001b[39m\n",
      "\u001b[30m5 -->\u001b[39m\u001b[31m Patient 1\u001b[39m\n",
      "Pénalités : 4798\n",
      "Ordre de passage :\n",
      "\u001b[30m1 -->\u001b[39m\u001b[31m Patient 2\u001b[39m\n",
      "\u001b[30m2 -->\u001b[39m\u001b[34m Patient 5\u001b[39m\n",
      "\u001b[30m3 -->\u001b[39m\u001b[34m Patient 4\u001b[39m\n",
      "\u001b[30m4 -->\u001b[39m\u001b[31m Patient 1\u001b[39m\n",
      "\u001b[30m5 -->\u001b[39m\u001b[34m Patient 3\u001b[39m\n"
     ]
    }
   ],
   "source": [
    "P=[50,70,5,7,8] #Le patient 1 est estimé à assez grave et le patient 2 estimé à très grave\n",
    "D=[50,50,5,5,5] # Les patients 1 et 2 devront rester longtemps au bloc opératoire\n",
    "H=[1,0,5,4,3] # Le patient 1 doit être traité sur le champs, le patient 2 ne doit pas tarder à être traité\n",
    "\n",
    "printBB(Branch_Bound_v2(P,D,H),[1,2])\n",
    "\n",
    "\n",
    "P=[50,80,5,7,8] #Le patient 1 est estimé à assez grave et le patient 2 estimé à très très grave\n",
    "D=[50,50,5,5,5] # Les patients 1 et 2 devront rester longtemps au bloc opératoire\n",
    "H=[1,0,5,4,3] # Le patient 1 doit être traité sur le champs, le patient 2 ne doit pas tarder à être traité\n",
    "\n",
    "printBB(Branch_Bound_v2(P,D,H),[1,2])\n",
    "\n",
    "\n",
    "P=[60,80,5,7,8] #Le patient 1 est estimé à grave et le patient 2 estimé à très très grave\n",
    "D=[50,50,5,5,5] # Les patients 1 et 2 devront rester longtemps au bloc opératoire\n",
    "H=[1,0,5,4,3] # Le patient 1 doit être traité sur le champs, le patient 2 ne doit pas tarder à être traité\n",
    "\n",
    "printBB(Branch_Bound_v2(P,D,H),[1,2])"
   ]
  },
  {
   "attachments": {},
   "cell_type": "markdown",
   "metadata": {},
   "source": [
    "Nous avons distingué 3 cas différents. Dans chacun d'entre eux, nous modifions les pénalités des deux patients urgents considérés.\n",
    "\n",
    "On observe que, pour chaque cas, le patient (2), plus urgent, passe bel et bien avant le patient (1). Nous pourrions donc être plutôt satisfaits du résultat. Toutefois, comme pour le test précédent, un patient peu urgent peut \"s'intercaler\" entre les deux, faisant perdre de précieuses minutes au patient (1). De la même manière, il est aussi possible qu'aucun des deux patients ne passe en premier, ce qui constitue un aberration compte tenu de la situation.\n",
    "\n",
    "De plus, un simple accroissement de la pénalité du patient (2) l'envoie directement en haut de la liste. Malheureusement, ce changement fait de l'ombre au patient (1). En effet, celui-ci reste en dernière position, et passe derrière tous les patients non urgents.\n",
    "\n",
    "Une augmentation de la pénalité de ce dernier le fait difficilement remonter dans l'ordre \"optimal\"."
   ]
  },
  {
   "attachments": {},
   "cell_type": "markdown",
   "metadata": {},
   "source": [
    "Cette extension du test précédent montre qu'il est aussi très important de faire attention aux écarts de pénalités entre plusieurs patients : un gap trop important peut favoriser l'un d'entre eux, au détriment des autres."
   ]
  },
  {
   "attachments": {},
   "cell_type": "markdown",
   "metadata": {},
   "source": [
    "### Instance D : Un patient moyennement urgent avec une durée de traitement très longue au milieu de patients moins graves."
   ]
  },
  {
   "attachments": {},
   "cell_type": "markdown",
   "metadata": {},
   "source": [
    "Imaginons un patient atteint de l'appendicite (1). Son traitement n'est pas si urgent, mais devra prendre beaucoup de temps. Les autres patients ont des difficultés nettement moins graves : l'un s'est coupé (2), l'autre s'est cogné (3), le dernier s'est fait une entorse (4). On estime que l'urgence des patient est égale, mais que les pénalités ne sont pas égales."
   ]
  },
  {
   "cell_type": "code",
   "execution_count": 43,
   "metadata": {},
   "outputs": [
    {
     "name": "stdout",
     "output_type": "stream",
     "text": [
      "Pénalités : 414\n",
      "Ordre de passage :\n",
      "\u001b[30m1 -->\u001b[39m\u001b[31m Patient 1\u001b[39m\n",
      "\u001b[30m2 -->\u001b[39m\u001b[34m Patient 4\u001b[39m\n",
      "\u001b[30m3 -->\u001b[39m\u001b[34m Patient 2\u001b[39m\n",
      "\u001b[30m4 -->\u001b[39m\u001b[34m Patient 3\u001b[39m\n"
     ]
    }
   ],
   "source": [
    "P=[25,2,2,4] # Le patient 1 un est plus grave que les autres\n",
    "D=[50,13,14,17] # Le patient 1 devra être opéré plus longtemps que les autres patients\n",
    "H=[10,10,10,10] # Les 4 patients sont aussi urgents les uns que les autres \n",
    "#(l'appendicite n'étant pas forcément urgent dans un premier temps)\n",
    "\n",
    "printBB(Branch_Bound_v2(P,D,H),[1])"
   ]
  },
  {
   "attachments": {},
   "cell_type": "markdown",
   "metadata": {},
   "source": [
    "On observe ici que l'ordre auquel nous pourrions penser est bien celui rendu par l'algorithme. En effet, le patient souffrant de l'appendicite passe bel et bien en premier. Ainsi, la modélisation du problème semble globalement être correcte."
   ]
  },
  {
   "attachments": {},
   "cell_type": "markdown",
   "metadata": {},
   "source": [
    "Désormais, modifions légèrement le problème : parmi les autres patients, celui qui s'est coupé s'est en fait coupé un bout de doigt (2), celui qui s'est cogné souffre en réalité d'un traumatisme cranien (3), et celui qui s'est fait une entorse est en fait un joueur de football connu et doit jouer le match de demain (4). \n",
    "\n",
    "Ainsi, les gravités changent dans notre modèle : "
   ]
  },
  {
   "cell_type": "code",
   "execution_count": 44,
   "metadata": {},
   "outputs": [
    {
     "name": "stdout",
     "output_type": "stream",
     "text": [
      "Pénalités : 1390\n",
      "Ordre de passage :\n",
      "\u001b[30m1 -->\u001b[39m\u001b[34m Patient 4\u001b[39m\n",
      "\u001b[30m2 -->\u001b[39m\u001b[34m Patient 2\u001b[39m\n",
      "\u001b[30m3 -->\u001b[39m\u001b[34m Patient 3\u001b[39m\n",
      "\u001b[30m4 -->\u001b[39m\u001b[31m Patient 1\u001b[39m\n"
     ]
    }
   ],
   "source": [
    "P=[25,20,20,40] # Les pénalités augmentent, car les retard sont plus embettants que dans l'instance précédente\n",
    "D=[50,13,14,17] # Les temps de traitement des patients ne changent pas\n",
    "H=[10,10,10,5]  # Le joueur de foot doit être pris en charge plus tôt pour pouvoir se rééduquer plus vite \n",
    "# On considère aussi une éventuelle influence des médias\n",
    "\n",
    "printBB(Branch_Bound_v2(P,D,H),[1])"
   ]
  },
  {
   "attachments": {},
   "cell_type": "markdown",
   "metadata": {},
   "source": [
    "Cette légère modification, pouvant être considérée comme une précision du problème, change complètement le résultat, et réarange considérablement l'ordre : le patient souffrant de l'appendicite (1) passe cette fois en dernier. \n",
    "\n",
    "Ainsi, au travers de cet exemple, plusieurs défauts sont soulevés :\n",
    "\n",
    "- Le médecin estime grossièrement la blessure pour en donner une \"note\", mais, est-il assez précis ? Pour palier à cela, devrait-il mener des analyses plus approfondies, afin d'estimer la gravité de la blessure (auquel cas du temps précieux pourrait être perdu...) ?\n",
    "\n",
    "- Les caractéristiques des patients ne sont pas connues dès leurs arrivées aux urgences. Ils seront inclus au modèle une fois qu'ils seront diagnostiqués. Mais, ce temps d'attente de diagnostic n'est pas inclu au modèle, et en fonction de la gravité d'une blessure ou d'une autre, ce temps d'attente peut jouer sur l'aggravement (ou l'inverse) de l'état du patient. Ainsi, quand bien même nous aurions un modèle exact vis-à-vis de la gravité des patients et des pénalités, il faudrait prendre en compte cet effet de \"gonflement\" (ou dégonflement) de la gravité lié à l'attente de diagnostic. \n",
    "\n",
    "Nous allons traiter un exemple pour étudier ce phénomène."
   ]
  },
  {
   "attachments": {},
   "cell_type": "markdown",
   "metadata": {},
   "source": [
    "### Instance E : phénomène de gonflement/dégonflement de la gravité lié à l'attente de diagnostic"
   ]
  },
  {
   "attachments": {},
   "cell_type": "markdown",
   "metadata": {},
   "source": [
    "En reprenant l'exemple précédent, si les patients sont diagnostiqués dès leur arrivée : "
   ]
  },
  {
   "cell_type": "code",
   "execution_count": 45,
   "metadata": {},
   "outputs": [
    {
     "name": "stdout",
     "output_type": "stream",
     "text": [
      "Pénalités : 1390\n",
      "Ordre de passage :\n",
      "\u001b[30m1-->\u001b[39m\u001b[38;5;5m Patient 4\u001b[39m\n",
      "\u001b[30m2-->\u001b[39m\u001b[38;5;3m Patient 2\u001b[39m\n",
      "\u001b[30m3-->\u001b[39m\u001b[38;5;4m Patient 3\u001b[39m\n",
      "\u001b[30m4-->\u001b[39m\u001b[38;5;2m Patient 1\u001b[39m\n"
     ]
    }
   ],
   "source": [
    "P=[25,20,20,40] # Les pénalités augmentent, car les retard sont plus embettants que dans l'instance précédente\n",
    "D=[50,13,14,17] # Les temps de traitement des patients ne changent pas\n",
    "H=[10,10,10,5]  # Le joueur de foot doit être pris en compte plus tôt pour pouvoir se rééduquer plus vite\n",
    "\n",
    "printBB(Branch_Bound_v2(P,D,H))"
   ]
  },
  {
   "attachments": {},
   "cell_type": "markdown",
   "metadata": {},
   "source": [
    "Si les patients sont diagnostiqués après un certain temps, leur état respectif a pu changer :\n",
    "- La crise d'appendicite du patient (1) devient plus grave et urgente (H : 10 $\\to$ 5, D inchangé, P : 25 $\\to$ 30)\n",
    "- L'état du patient (2) ne change pas (H : 10 $\\to$ 20, D, P inchangés)\n",
    "- le patient ayant subit un traumatisme cranien (3) est tombé dans les pommes dans la salle d'éttente : il devient plus urgent, grave et demandera plus de temps au bloc (H : 10 $\\to$ 5, D : 14 $\\to$ 30, P : 20 $\\to$ 35)\n",
    "- le joueur de foot (4) voit son match de demain annulé : il devient moins urgent de le soigner, la pénalité diminue (H : 5 $\\to$ 20, D inchangé, P : 40 $\\to$ 20)"
   ]
  },
  {
   "cell_type": "code",
   "execution_count": 46,
   "metadata": {},
   "outputs": [
    {
     "name": "stdout",
     "output_type": "stream",
     "text": [
      "Pénalités : 2310\n",
      "Ordre de passage :\n",
      "\u001b[30m1-->\u001b[39m\u001b[38;5;4m Patient 3\u001b[39m\n",
      "\u001b[30m2-->\u001b[39m\u001b[38;5;3m Patient 2\u001b[39m\n",
      "\u001b[30m3-->\u001b[39m\u001b[38;5;5m Patient 4\u001b[39m\n",
      "\u001b[30m4-->\u001b[39m\u001b[38;5;2m Patient 1\u001b[39m\n"
     ]
    }
   ],
   "source": [
    "P=[30,20,35,20]\n",
    "D=[50,13,30,17]\n",
    "H=[5,20,5,20]\n",
    "\n",
    "printBB(Branch_Bound_v2(P,D,H))"
   ]
  },
  {
   "attachments": {},
   "cell_type": "markdown",
   "metadata": {},
   "source": [
    "En considérant ces modifications, nous observons que l'ordre des patients 3 et 4 ont été permutés, ce qui semble tout à fait légitime puisque le joueur de football (4) ne doit plus être soigné dans l'immédiat. Toutefois, celui-ci, tout comme le patient (2) qui s'est coupé un doigt, passent tout de même avant le patient (1) souffrant de l'appendicite.\n",
    "\n",
    "Ainsi, l'évolution de l'urgence du patient (1) n'a pas été suffisante pour le faire passer plus tôt : il va finalement passer après un patient souffrant d'une simple entorse.\n",
    "\n",
    "Dans le cas où nous souhaitons créer un modèle considérant ces fluctuations, nous devons être en capacité de modifier les valeurs attribuées rapidement, et de manière assez fiable, pour que les choix réalisé n'impactent pas négativement le nouvel ordre construit."
   ]
  },
  {
   "attachments": {},
   "cell_type": "markdown",
   "metadata": {},
   "source": [
    "Evidemment, les instances choisies ont permis de montrer les défauts du modèle, mais d'autres défauts pourraient bien entendu être relevé en terme d'éthique.\n",
    "\n",
    "A propos des patients dans un état actuel peu grave, mais succeptibles de chuter (ex :  défaut de respiration potentiellement transformé en crise cardiaque), peut-on vraiment résumer cet état avec une \"pénalité\" ? Faut-il introduire de l'aléatoire ? Si oui, d'autres questions éthiques se soulèvent, car le choix de l'ordre des patients fait intervenir de l'aléatoire, qui, par essence ne sera pas nécessairement juste..."
   ]
  },
  {
   "attachments": {},
   "cell_type": "markdown",
   "metadata": {},
   "source": [
    "# V/ Conclusion"
   ]
  },
  {
   "attachments": {},
   "cell_type": "markdown",
   "metadata": {},
   "source": [
    "Au final, ce projet a été une grande source d'enrichissements. En effet, selon nous, celui-ci eu deux principales utilités : \n",
    "- un aspect mathématique : réussir à implémenter des algorithmes étudiés en cours, en traduisant nos pensées par des lignes de codes; mais aussi réussir à modéliser un problème concret et réel. La mise en place de tels algorithmes a été assez stimulante, puisqu'elle nous a offert une certaine liberté vis-à-vis de l'implémentation. De plus, être confronté à d'éventuels problèmes techniques nous a poussé à mettre à jour notre manière de penser. Ce projet nous a donc été, pour nous, une source de réflexions, d'adaptation, de discussions, et de comparaisons.\n",
    "\n",
    "- un aspect éthique : nous avons pu voir, de manière plus concrète et visuelle, que le modèle d'étude peut être remis en cause. Nous avons ainsi tenté d'appliquer des raisonnement moraux similaires à ceux abordés en cours d'éthique, transformant ce projet en une illustration des textes étudiés. Ce projet illustre parfaitement les problèmes liés à la simplification de la réalité : décrire un phénomène social ou humain est très complexe et amène à se poser des questions.\n",
    "\n",
    "En réalisant ce projet, nous avons donc appris à modéliser et à transmettre nos raisonnements à une machine, mais nous avons tout autant appris à prendre du recul sur notre travail, ce qui nous a amené à se questionner sur le modèle, qui nous paraissait pourtant plutôt bon et réaliste au premier abord."
   ]
  }
 ],
 "metadata": {
  "@webio": {
   "lastCommId": null,
   "lastKernelId": null
  },
  "celltoolbar": "Format de la Cellule Texte Brut",
  "kernelspec": {
   "display_name": "Julia 1.9.4",
   "language": "julia",
   "name": "julia-1.9"
  },
  "language_info": {
   "file_extension": ".jl",
   "mimetype": "application/julia",
   "name": "julia",
   "version": "1.9.4"
  },
  "latex_envs": {
   "LaTeX_envs_menu_present": true,
   "autoclose": false,
   "autocomplete": true,
   "bibliofile": "biblio.bib",
   "cite_by": "apalike",
   "current_citInitial": 1,
   "eqLabelWithNumbers": true,
   "eqNumInitial": 1,
   "hotkeys": {
    "equation": "Ctrl-E",
    "itemize": "Ctrl-I"
   },
   "labels_anchors": false,
   "latex_user_defs": false,
   "report_style_numbering": false,
   "user_envs_cfg": false
  }
 },
 "nbformat": 4,
 "nbformat_minor": 4
}
