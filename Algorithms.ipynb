{
 "cells": [
  {
   "attachments": {},
   "cell_type": "markdown",
   "metadata": {},
   "source": [
    "# Séparation et évaluation pour la planification de visites aux urgences\n",
    "\n",
    "<div style=\"text-align: right;\">\n",
    "Mathias LOMMEL\n",
    "    \n",
    "<div style=\"text-align: right;\">\n",
    "Lucas OFFROY\n",
    "\n",
    "<div style=\"text-align: right;\">\n",
    "4MA\n"
   ]
  },
  {
   "attachments": {},
   "cell_type": "markdown",
   "metadata": {},
   "source": [
    "# I/ INTRODUCTION\n",
    "\n",
    "Dans le cadre de ce projet, comme annoncé ci-dessus, nous allons considérer le problème de planification de visites aux urgences. Nous pourrons ainsi observer 3 majeures parties :\n",
    "- L'implémentation de 4 algorithmes permettant la résolution de ce problème\n",
    "- L'analyse et la comparaison des performances de ces algorithmes\n",
    "- L'analyse d'exemples particuliers\n",
    "\n",
    "Ce projet nous permettra ainsi de mettre en application les notions théoriques étudiées en cours, mais aussi de prendre du recul sur nos implémentations, et se questionner sur l'aspect éthique des résultats."
   ]
  },
  {
   "cell_type": "code",
   "execution_count": 1,
   "metadata": {},
   "outputs": [
    {
     "name": "stderr",
     "output_type": "stream",
     "text": [
      "\u001b[32m\u001b[1m    Updating\u001b[22m\u001b[39m registry at `C:\\Users\\lucas\\.julia\\registries\\General.toml`\n",
      "\u001b[32m\u001b[1m   Resolving\u001b[22m\u001b[39m package versions...\n",
      "\u001b[32m\u001b[1m  No Changes\u001b[22m\u001b[39m to `C:\\Users\\lucas\\.julia\\environments\\v1.9\\Project.toml`\n",
      "\u001b[32m\u001b[1m  No Changes\u001b[22m\u001b[39m to `C:\\Users\\lucas\\.julia\\environments\\v1.9\\Manifest.toml`\n",
      "\u001b[32m\u001b[1m   Resolving\u001b[22m\u001b[39m package versions...\n",
      "\u001b[32m\u001b[1m  No Changes\u001b[22m\u001b[39m to `C:\\Users\\lucas\\.julia\\environments\\v1.9\\Project.toml`\n",
      "\u001b[32m\u001b[1m  No Changes\u001b[22m\u001b[39m to `C:\\Users\\lucas\\.julia\\environments\\v1.9\\Manifest.toml`\n",
      "\u001b[32m\u001b[1m   Resolving\u001b[22m\u001b[39m package versions...\n",
      "\u001b[32m\u001b[1m  No Changes\u001b[22m\u001b[39m to `C:\\Users\\lucas\\.julia\\environments\\v1.9\\Project.toml`\n",
      "\u001b[32m\u001b[1m  No Changes\u001b[22m\u001b[39m to `C:\\Users\\lucas\\.julia\\environments\\v1.9\\Manifest.toml`\n",
      "\u001b[32m\u001b[1m   Resolving\u001b[22m\u001b[39m package versions...\n",
      "\u001b[32m\u001b[1m  No Changes\u001b[22m\u001b[39m to `C:\\Users\\lucas\\.julia\\environments\\v1.9\\Project.toml`\n",
      "\u001b[32m\u001b[1m  No Changes\u001b[22m\u001b[39m to `C:\\Users\\lucas\\.julia\\environments\\v1.9\\Manifest.toml`\n",
      "\u001b[32m\u001b[1m   Resolving\u001b[22m\u001b[39m package versions...\n",
      "\u001b[32m\u001b[1m  No Changes\u001b[22m\u001b[39m to `C:\\Users\\lucas\\.julia\\environments\\v1.9\\Project.toml`\n",
      "\u001b[32m\u001b[1m  No Changes\u001b[22m\u001b[39m to `C:\\Users\\lucas\\.julia\\environments\\v1.9\\Manifest.toml`\n"
     ]
    }
   ],
   "source": [
    "import Pkg;\n",
    "Pkg.add(\"GLPK\")\n",
    "Pkg.add(\"Cbc\")\n",
    "Pkg.add(\"HiGHS\")\n",
    "Pkg.add(\"JuMP\")\n",
    "Pkg.add(\"Plots\")\n",
    "using GLPK\n",
    "using Cbc\n",
    "using HiGHS\n",
    "using JuMP\n",
    "using Plots"
   ]
  },
  {
   "attachments": {},
   "cell_type": "markdown",
   "metadata": {},
   "source": [
    "# II / Implémentation des algorithmes "
   ]
  },
  {
   "attachments": {},
   "cell_type": "markdown",
   "metadata": {},
   "source": [
    "## 1 - Algorithmes de Branch and Bound\n",
    "\n",
    "Dans cette première partie, nous allons nous pencher sur les deux premiers algorithmes de Branch and Bound, vus en TD. A cet effet, nous allons commencer par définir quelques fonctions qui nous seront utiles pour ces deux algorithmes : *estimate_sup_init* et *compute_penalties*."
   ]
  },
  {
   "cell_type": "code",
   "execution_count": 2,
   "metadata": {},
   "outputs": [
    {
     "data": {
      "text/plain": [
       "estimate_sup_init (generic function with 1 method)"
      ]
     },
     "execution_count": 2,
     "metadata": {},
     "output_type": "execute_result"
    }
   ],
   "source": [
    "function estimate_sup_init(P,D,H)\n",
    "    \"\"\"\n",
    "    Inputs :\n",
    "        P : vecteur (nx1) des pénalités associées au retard de chaque patient\n",
    "        D : vecteur (nx1) des durées de rdv de chaque patient\n",
    "        H : vecteur (nx1) des horaires de passage au plus tard de chaque patient\n",
    "    Outputs : \n",
    "        z_sup : borne supérieure du problème\n",
    "        order : ordre de passage associé à cette borne (vecteur nx1)\n",
    "    \"\"\"\n",
    "    \n",
    "    # Stratégie choisie : prendre les ratios H/P croissants\n",
    "    \n",
    "    # Tri des temps en fonction du critère des ratios H/P croissants\n",
    "    ratios=H./P\n",
    "    order=sortperm(ratios)\n",
    "    \n",
    "    # On décale les valeurs aux temps de commencement (ajout de 0 au debut et on retire la dernière valeur)\n",
    "    temps_début_traitement_apres_patient=[0;D[order]]  \n",
    "    pop!(temps_début_traitement_apres_patient)\n",
    "    \n",
    "    # On fait la somme cumulée pour avoir les temps de début de passage\n",
    "    temps_début_traitement=cumsum(temps_début_traitement_apres_patient)\n",
    "    \n",
    "    # Première borne supérieure estimée\n",
    "    z_sup=compute_penalties(P,H,temps_début_traitement,order) \n",
    "    \n",
    "    return [z_sup,order]\n",
    "end"
   ]
  },
  {
   "attachments": {},
   "cell_type": "markdown",
   "metadata": {},
   "source": [
    "La fonction **estimate_sup_init** estime la première borne primale du problème selon le critère des ratios (Temps maximal avant pénalité)/(Pénalités) croissants. \n",
    "\n",
    "Ce raisonnement fait donc passer en priorité les patients qui ont une forte pénalité et un faible temps d'attente avant d'être pénalisé. Ces patients semblent en effet être à l'origine d'une forte pénalité si ils ne sont pas traités dans les premiers, ce qui justifie ce choix.\n",
    "\n",
    "Cette première estimation est très importante notamment dans la version 2 de l'algorithme, car elle va permettre d'économiser un temps précieux de calcul. En effet, la connaissance d'une bonne borne primale permet de ne pas descendre jusqu'au bout de l'arbre, grâce à la stratégie d'élaguage."
   ]
  },
  {
   "attachments": {},
   "cell_type": "markdown",
   "metadata": {},
   "source": [
    "### 1.1 : Première version"
   ]
  },
  {
   "attachments": {},
   "cell_type": "markdown",
   "metadata": {},
   "source": [
    "#### $\\to$ Fonction *compute_penalties*\n",
    "\n",
    "Cette fonction permet de calculer les pénalités en prenant en paramètre les vecteurs de pénalités *P*, de délais *H*, de durées de début de traitement *t*, et d'ordre provisoire *order*.\n",
    "\n",
    "Cette fonction doit permettre de calculer les pénalités même si nous ne sommes pas dans la profondeur $n$ de l'arbre, c'est-à-dire que nous n'avons pas encore nécessairement considéré la totalité des patients dans notre vecteur *order*. Pour la suite, on normalisera le fait de mettre 0 dans les cases du tableau indicés par des nombres supérieurs au noeud en cours de traitement.\n",
    "\n",
    "Par exemple, dans un cas de 4 patients, si on regarde le noeud de profondeur 2 où le patient 3 est traité en premier et le patient 4 est traité en 2ème, on aura $order:=[3~ 4~ 0~ 0]$. Notre fonction ne prendra donc pas en compte les zéros finaux pour calculer la pénalité (z_tilde) à ce noeud (avec la commande *order = trunc.(Int,order[order.!=0])*)."
   ]
  },
  {
   "cell_type": "code",
   "execution_count": 3,
   "metadata": {},
   "outputs": [
    {
     "data": {
      "text/plain": [
       "compute_penalties (generic function with 1 method)"
      ]
     },
     "execution_count": 3,
     "metadata": {},
     "output_type": "execute_result"
    }
   ],
   "source": [
    "function compute_penalties(P,H,t,order) \n",
    "    \"\"\"\n",
    "    Inputs :\n",
    "        P : vecteur (nx1) des pénalités associées au retard de chaque patient\n",
    "        H : vecteur (nx1) des horaires de passage au plus tard de chaque patient\n",
    "        t : vecteur (nx1) des durées de traitement\n",
    "        order : vecteur (nx1) donnant l'ordre de passage des patients\n",
    "    Output : \n",
    "        sum(res) : pénalité de l'ordre donné en paramètre\n",
    "    \"\"\"\n",
    "    # On trie les zeros finaux si profondeur != n\n",
    "    order = trunc.(Int,order[order.!=0]) \n",
    "    \n",
    "    # Vecteur t associé \n",
    "    t=trunc.(Int,t[1:length(order)])  \n",
    "    # Vecteur des pénalités associé\n",
    "    P1=P[order]\n",
    "    # Vecteur des délais associé\n",
    "    H1=H[order] \n",
    "    \n",
    "    # Calcul du vecteur des pénalités\n",
    "    res=P1.*(t-H1) \n",
    "    # On retire les valeurs négatives\n",
    "    res[res.<0].=0 \n",
    "    \n",
    "    # On retourne la somme de toutes les pénalités\n",
    "    return sum(res) \n",
    "end"
   ]
  },
  {
   "attachments": {},
   "cell_type": "markdown",
   "metadata": {},
   "source": [
    "Le vecteur *t* sera composé des durées de début de traitement, soit des durées cumulées des délais des patients traités avant. Dans l'exemple précédent, en appelant $D_3$ et $D_4$ les temps de traitement des patients 3 et 4 respectivement, *t*:=[$0$, $D_3$, $D_3+D_4$, $D_3+D_4$]. Ici, les informations intéressantes pour calculer les pénalités avec l'ordre donné sont les 2 premières cellules. Pour calculer les pénalités vectoriellement et optimiser le temps de calcul, on ne considèrera seulement ces premières cellules (avec la commande *t=trunc.(Int,t[1:length(order)]*)).\n",
    "    \n",
    "La taille du vecteur *order* (resp *t*) sera donc fixe de dimension $n$. Ce choix de non-recours à l'allocation dynamique est justifié par le fait que les dimensions de ce vecteur resteront petites. En effet, le nombre de patients considérés ne nécessite pas recours à l'allocation dynamique, (et serait peut être même une perte de temps au vu du nombre d'opérations nécessaires sur le vecteur *order* (resp *t*)).\n",
    "    \n",
    "Ensuite, on filtre P et H avec *order* pour récupérer vectoriellement les pénalités et délais dans l'ordre, et calculons vectoriellement la formule de pénalités donnée dans l'énoncé : $P.(t-H)$. \n",
    "Enfin, il ne faut pas oublier de considérer seulement les valeurs positives avec la commande *res[res.<0].=0*. \n",
    "\n",
    "Nous avons donc, à cette étape, le vecteur de pénalités associé à chaque patient passé dans l'ordre donné. Nous retournons donc la somme de ces pénalités pour avoir la pénalité totale calculée au noeud actuellement considéré (z_tilde)."
   ]
  },
  {
   "attachments": {},
   "cell_type": "markdown",
   "metadata": {},
   "source": [
    "#### $\\to$ Algorithme *Branch_Bound_v1*\n",
    "\n",
    "Nous avons construit les deux fonctions **compute_penalties** et **estimate_sup_init**, nous pouvons donc désormais construire le premier algorithme de Branch and Bound, basé sur le premier algorithme de B&B vu en TD."
   ]
  },
  {
   "cell_type": "code",
   "execution_count": 4,
   "metadata": {},
   "outputs": [
    {
     "data": {
      "text/plain": [
       "Branch_Bound_v1 (generic function with 1 method)"
      ]
     },
     "execution_count": 4,
     "metadata": {},
     "output_type": "execute_result"
    }
   ],
   "source": [
    "function Branch_Bound_v1(P,D,H)\n",
    "    \"\"\"\n",
    "    Inputs :\n",
    "        P : vecteur (nx1) des pénalités associées au retard de chaque patient\n",
    "        D : vecteur (nx1) des durées de rdv de chaque patient\n",
    "        H : vecteur (nx1) des horaires de passage au plus tard de chaque patient\n",
    "    Outputs : \n",
    "        z_barre : solution optimale du problème (pénalité minimale)\n",
    "        ordre : ordre de passage associé (vecteur nx1)\n",
    "    \"\"\"\n",
    "\n",
    "# Estimation initiale d'une borne primale, qui est renvoyée si égale à 0 car on serait dans le cas d'une optimalité\n",
    "    n = length(D)\n",
    "    res = estimate_sup_init(P,D,H)\n",
    "    z_barre = res[1]\n",
    "    ordre = res[2]\n",
    "    if z_barre == 0\n",
    "        return estimate_sup_init(P,D,H)\n",
    "    end\n",
    "\n",
    "# Initialisation des objet nécessaires\n",
    "    penalties=0                            # Pas de pénalités au début\n",
    "    temps_traitement=zeros(n)              # Pas de patients traités au début\n",
    "    ordre_actuel=zeros(n)\n",
    "    profondeur_actuelle=1                  # On se place à la profondeur 1 au début\n",
    "    \n",
    "# Boucle pour avancer dans l'arbre\n",
    "    while true\n",
    "\n",
    "        # On fait passer le patient suivant à la profondeur courante\n",
    "        ordre_actuel[profondeur_actuelle]=ordre_actuel[profondeur_actuelle]+1\n",
    "\n",
    "# Vérifications de placement dans l'arbre et de bon fonctionnement :\n",
    "        \n",
    "        # Si un patient est traité 2 fois (présent 2 fois dans le vecteur ordre_actuel)\n",
    "        if sum(ordre_actuel.==ordre_actuel[profondeur_actuelle])>1 \n",
    "            # On continue la boucle pour passer au patient suivant dans la profondeur actuelle \n",
    "            # (--> on élague)\n",
    "            continue \n",
    "        end\n",
    "        \n",
    "\n",
    "        # Si tous les patients ont été traités dans la profondeur actuelle \n",
    "        ## (tous les cas de figures ont été traités à ce niveau)\n",
    "        \n",
    "        # ordre_actuel[profondeur_actuelle]>n signifie qu'on est passé au patient n+1 dans la profondeur actuelle  \n",
    "        ## --> on sort du cadre de l'arbre\n",
    "        if ordre_actuel[profondeur_actuelle]>n \n",
    "            \n",
    "            if profondeur_actuelle==1\n",
    "                # Si en plus, on est revenu à la profondeur de 1, on a fini de boucler sur tout notre arbre \n",
    "                ## --> on renvoie notre solution optimale\n",
    "                return [z_barre,ordre]\n",
    "                \n",
    "            # Si nous ne sommes pas encore revenus à la profondeur 1\n",
    "            else\n",
    "                # On élague en remontant d'une profondeur (car toutes les branches à ce niveau ont été parcourues)\n",
    "                ## On remet le compteur des patients à 0 pour la profondeur actuelle\n",
    "                ordre_actuel[profondeur_actuelle]=0 \n",
    "                temps_traitement[profondeur_actuelle]=0\n",
    "                # On remet le calcul des pénalités à 0\n",
    "                penalties=0\n",
    "                # On remonte d'une profondeur\n",
    "                profondeur_actuelle=profondeur_actuelle-1\n",
    "                continue\n",
    "            end\n",
    "        end\n",
    "\n",
    "\n",
    "# Vérification de l'optimalité\n",
    "\n",
    "        # GESTION DES TEMPS DE TRAITEMENT\n",
    "        \n",
    "        # Si on est en profondeur 1\n",
    "        if profondeur_actuelle == 1 \n",
    "            # Le premier patient est traité sans délai\n",
    "            temps_traitement[profondeur_actuelle]=0\n",
    "        \n",
    "        # Si on est plus profond dans l'arbre\n",
    "        else\n",
    "            # Le patient n sera traité une durée d après le patient n-1, avec d le temps de traitement du patient n-1\n",
    "            ## D[trunc(Int,ordre_actuel[profondeur_actuelle-1])] donne le temps de traitement du patient précédent\n",
    "            temps_traitement[profondeur_actuelle]=D[trunc(Int,ordre_actuel[profondeur_actuelle-1])]\n",
    "        end\n",
    "        \n",
    "        # ESTIMATION DE LA BORNE DUALE\n",
    "        \n",
    "        # On utilise la somme cumulée des temps pour avoir le temps de passage globaux \n",
    "        ## --> conversion des temps relatifs en temps globaux\n",
    "        penalties=compute_penalties(P,H,cumsum(temps_traitement),ordre_actuel) \n",
    "        \n",
    "        # Si la borne duale est moins bonne que notre solution actuelle\n",
    "        if penalties >= z_barre \n",
    "            # On continue la boucle pour passer au patient suivant dans la profondeur actuelle \n",
    "            ## --> on élague\n",
    "            continue\n",
    "\n",
    "        # Si au contraire, la borne duale est meilleure \n",
    "        else \n",
    "\n",
    "            # Si nous ne sommes pas encore arrivé au bout (tous les patients pas encore traités)\n",
    "            if profondeur_actuelle != n\n",
    "                # On continue sur cette branche de l'arbre (ajout d'une unité de profondeur) \n",
    "                profondeur_actuelle=profondeur_actuelle+1\n",
    "                continue\n",
    "\n",
    "            # Si nous sommes arrivés au bout de l'arbre\n",
    "            else \n",
    "                # Nous avons trouvé une meilleure solution que la précédente !\n",
    "                # On remplace donc l'ancienne solution par cette meilleure solution\n",
    "                z_barre=penalties\n",
    "                ordre=copy(ordre_actuel)\n",
    "                \n",
    "                # Ici, continue va nous mener à un autre tour de boucle. \n",
    "                # Forcément, vu que tous les patients ont été traités, passer au patient suivant dans la profondeur n\n",
    "                # va mener à une duplication de patients dans le vecteur. Ceci va encore mener à d'autres tours \n",
    "                # de boucle jusqu'à passer au patient n+1 dans la profondeur actuelle \n",
    "                ## --> on sort du cadre de l'arbre\n",
    "                \n",
    "                # Ensuite, il remontera donc d'une profondeur et continuera sa course le long d'une autre branche de \n",
    "                # profondeur n-1, etc...\n",
    "                \n",
    "                continue\n",
    "            end\n",
    "        end\n",
    "    end\n",
    "end"
   ]
  },
  {
   "attachments": {},
   "cell_type": "markdown",
   "metadata": {},
   "source": [
    "La fonction *Branch_Bound_v1* met en oeuvre l'algorithme de branchement et séparation de la première manière étudiée en cours. L'arbre est parcouru en profondeur. \n",
    "\n",
    "On stocke la profondeur courante dans une variable nommée *profondeur_actuelle* et l'ordre des patients dans un vecteur nommé *ordre_actuel*. Si *profondeur_actuelle < n*, ce vecteur sera complété de 0, pour signifier que des patients dans les profondeurs *profondeur_actuelle+1, ..., n-1, n* ne sont pas encore considérés. Ainsi, au début du programme, le vecteur *ordre_actuel* sera uniquement constitué de 0. \n",
    "\n",
    "A chaque tour de boucle, on avance d'une unité de profondeur dans l'arbre, en considérant, à la profondeur *profondeur_actuelle +1*, le patient à l'indice suivant (+1) de celui déjà considéré à la *profondeur_actuelle*.\n",
    "Si ce patient figure déjà dans la liste, on n'avance pas dans l'arbre (on n'incrémente pas la profondeur). \n",
    "\n",
    "Par exemple, au début du programme, on aura (pour n=4 patients) :\n",
    "- 1 - ordre_actuel = [0, 0, 0, 0], profondeur_actuelle=0\n",
    "- 2 - ordre_actuel = [1, 0, 0, 0], profondeur_actuelle=1\n",
    "- 3 - ordre_actuel = [1, 1, 0, 0], profondeur_actuelle=2  $\\to$ Doublons donc on n'avance pas de profondeur\n",
    "- 4 - ordre_actuel = [1, 2, 0, 0], profondeur_actuelle=2\n",
    "...etc\n",
    "\n",
    "D'autres objets tels que : *temps_traitement* permettent de stocker les informations des temps de traitement des patients rangés dans *ordre_actuel*, dans le même ordre et décalés de 1 vers la droite (première valeur à 0 et dernière valeur à D[ordre_actuel[length(ordre_actuel)-1]]).\n",
    "\n",
    "Ainsi, dans la fonction de calcul des pénalités, nous utiliserons la somme cummulée de ces temps, afin de connaitre les temps de passages des patients. \n",
    "Ces pénalités permettront ensuite de trouver une borne duale et/ou primale ou de juger qu'il n'est pas nécessaire d'aller plus loin dans l'arbre. \n",
    "\n",
    "\n",
    "Le programme se divise donc en 2 parties : \n",
    "- La première partie s'occupe du bon fonctionnement de la boucle décrite plus haut en vérifant que :\n",
    "    - Si un patient est traité 2 fois (présent 2 fois dans le vecteur ordre_actuel), on continue la boucle pour passer au patient suivant dans la profondeur actuelle \n",
    "    \n",
    "    - Si tous les patients ont été traités dans la profondeur actuelle (signifie qu'on est passé au patient n+1 dans la profondeur actuelle, donc on n'est plus dans le cadre de l'arbre $\\iff$ ordre_actuel[profondeur_actuelle]>n), alors :\n",
    "    \n",
    "        - Si en plus, on est revenu à la profondeur de 1, on a fini de boucler sur tout notre arbre et en renvoie notre solution optimale\n",
    "        - Sinon, on élague en remontant d'une profondeur (car toutes les branches à ce niveau ont été parcourues)\n",
    "        \n",
    "- La deuxième partie qui s'occupe de vérifier les conditions d'optimalité et qui va :\n",
    "    - Mettre à jour les temps de traitement en concordance avec *ordre_actuel*\n",
    "    - Calculer les pénalités\n",
    "    - Décider si :\n",
    "        - On élague (cas où $\\widetilde{z} > \\overline{z}$)\n",
    "        - On continue d'explorer l'arbre en profondeur : cas où $\\widetilde{z} < \\overline{z}$ mais $\\widetilde{x}$ pas réalisable (tous les patients n'ont pas été traités).\n",
    "        - On met à jour notre solution optimale précédente : cas où $\\widetilde{z} < \\overline{z}$ et $\\widetilde{x}$ réalisable (tous les patients ont été traités).\n",
    "        \n",
    "        \n",
    "Le programme se termine donc en descente d'arbre comme suit (exemple avec n=4) :\n",
    "- 1 - ordre_actuel = [4, 3, 2, 1], profondeur_actuelle=4   $\\to$ Calcul des pénalités \n",
    "- 2 - ordre_actuel = [4, 3, 2, 2], profondeur_actuelle=4   $\\to$ Doublons donc on continue\n",
    "- 3 - ordre_actuel = [4, 3, 2, 3], profondeur_actuelle=4   $\\to$ Doublons donc on continue\n",
    "- 4 - ordre_actuel = [4, 3, 2, 4], profondeur_actuelle=4   $\\to$ Doublons donc on continue\n",
    "- 5 - ordre_actuel = [4, 3, 2, 5], profondeur_actuelle=4   $\\to$ Sortie du cadre de l'arbre donc on remonte d'une profondeur\n",
    "\n",
    "\n",
    "- 6 - ordre_actuel = [4, 3, 3, 0], profondeur_actuelle=3   $\\to$ Doublons donc on continue\n",
    "- 7 - ordre_actuel = [4, 3, 4, 0], profondeur_actuelle=3   $\\to$ Doublons donc on continue\n",
    "- 8 - ordre_actuel = [4, 3, 5, 0], profondeur_actuelle=3   $\\to$ Sortie du cadre de l'arbre donc on remonte d'une profondeur\n",
    "\n",
    "\n",
    "- 9 - ordre_actuel = [4, 4, 0, 0], profondeur_actuelle=2   $\\to$ Doublons donc on continue\n",
    "- 10 - ordre_actuel = [4, 5, 0, 0], profondeur_actuelle=2   $\\to$ Sortie du cadre de l'arbre donc on remonte d'une profondeur\n",
    "\n",
    "\n",
    "- 11 - ordre_actuel = [5, 0, 0, 0], profondeur_actuelle=1   $\\to$ Sortie du cadre de l'arbre donc on remonte d'une profondeur\n",
    "\n",
    "\n",
    "--- Fin du programme car profondeur revenue à 0 ---"
   ]
  },
  {
   "attachments": {},
   "cell_type": "markdown",
   "metadata": {},
   "source": [
    "### 1.2 : Seconde version\n",
    "\n",
    "#### $\\to$ Fonction *compute_penalties_v2*\n",
    "\n",
    "Nous considérons cette fois un autre algorithme de B&B, basé sur le second raisonnement élaboré en TD. Nous devons donc repenser notre fonction *compute_penalties* : nous créons une nouvelle fonction, nommée *compute_penalties_v2*."
   ]
  },
  {
   "cell_type": "code",
   "execution_count": 5,
   "metadata": {},
   "outputs": [
    {
     "data": {
      "text/plain": [
       "compute_penalties_v2 (generic function with 1 method)"
      ]
     },
     "execution_count": 5,
     "metadata": {},
     "output_type": "execute_result"
    }
   ],
   "source": [
    "function compute_penalties_v2(P,H,D,t,order) \n",
    "    \"\"\"\n",
    "    Inputs :\n",
    "        P : vecteur (nx1) des pénalités associées au retard de chaque patient\n",
    "        H : vecteur (nx1) des horaires de passage au plus tard de chaque patient\n",
    "        D : vecteur (nx1) des durées de rdv de chaque patient\n",
    "        t : vecteur (nx1) des durées de traitement\n",
    "        order : vecteur (nx1) donnant l'ordre de passage des patients (inversé)\n",
    "    Output : \n",
    "        sum(res) : pénalité de l'ordre donné en paramètre\n",
    "    \"\"\"\n",
    "    # Estimation du temps total pour faire passer la totalité des patients\n",
    "    max_delay=sum(D) \n",
    "    # Tri des zeros finaux si pas en profondeur n\n",
    "    order = trunc.(Int,order[order.!=0])\n",
    "    \n",
    "    # Vecteur t associé\n",
    "    t=trunc.(Int,t[1:length(order)]) \n",
    "    ###\n",
    "    t= (-1).*t.+max_delay\n",
    "    ###\n",
    "    # Vecteur des pénalités associé\n",
    "    P=P[order]\n",
    "    # Vecteur des délais associés\n",
    "    H=H[order]\n",
    "\n",
    "    # Calcul du vecteur des pénalités\n",
    "    res=P.*(t-H)\n",
    "    # On enelève les valeurs négatives\n",
    "    res[res.<0].=0\n",
    "\n",
    "    # On retourne la somme de toutes les pénalités\n",
    "    return sum(res)\n",
    "end"
   ]
  },
  {
   "attachments": {},
   "cell_type": "markdown",
   "metadata": {},
   "source": [
    "Cette fonction *compute_penalties_v2* permet de calculer les pénalités pour la deuxième manière de traiter notre problème : en considérant cette fois les patients traités dans l'ordre inverse de passage. \n",
    "\n",
    "Le principe est le même que pour la version 1, seulement, ici, la commande *t= (-1).t.+max_delay* permet de calculer les temps de passages des patients en partant de la fin. \n",
    "\n",
    "ATTENTION, ici, *t* sera égal aux sommes cumulées des temps de passages des patients stockés dans *ordre_actuel*. \n",
    "\n",
    "De cette manière, pour le patient i, on soustrait à la durée totale (temps de passage de tous les patients), les durées de passages des patients qui passent après lui. On soustrait également la durée de passage du patient i. De cette manière, on obtient bien le temps auquel passe le patient i.\n",
    "\n",
    "Autrement, c'est le même raisonnement que pour la version 1.\n",
    "La fonction permet de calculer les pénalités en prenant en paramètre les vecteurs de pénalités *P*, de délais *H*, de durées de traitement cumulées *t*, et d'ordre provisoire *order*."
   ]
  },
  {
   "attachments": {},
   "cell_type": "markdown",
   "metadata": {},
   "source": [
    "#### $\\to$ Algorithme *Branch_Bound_v2*\n",
    "\n",
    "Avec cette nouvelle méthode, nous allons pouvoir écrire le second algorithme de B&B. Celui-ci fonctionnera d'une manière similaire : la seule chose qui changera sera l'ordre donné, qui sera écrit dans le sens inverse de l'ordre de passage des patients; et l'évaluation des pénalités."
   ]
  },
  {
   "cell_type": "code",
   "execution_count": 6,
   "metadata": {},
   "outputs": [
    {
     "data": {
      "text/plain": [
       "Branch_Bound_v2 (generic function with 1 method)"
      ]
     },
     "execution_count": 6,
     "metadata": {},
     "output_type": "execute_result"
    }
   ],
   "source": [
    "function Branch_Bound_v2(P,D,H)\n",
    "    \"\"\"\n",
    "    Inputs :\n",
    "        P : vecteur (nx1) des pénalités associées au retard de chaque patient\n",
    "        D : vecteur (nx1) des durées de rdv de chaque patient\n",
    "        H : vecteur (nx1) des horaires de passage au plus tard de chaque patient\n",
    "    Outputs : \n",
    "        z_barre : solution optimale du problème (pénalité minimale)\n",
    "        reverse(ordre) : ordre de passage associé (vecteur nx1)\n",
    "    \"\"\"\n",
    "\n",
    "# Estimation initiale d'une borne primale, qui est renvoyée si égale à 0 car on serait dans le cas d'une optimalité\n",
    "    n=length(D)\n",
    "    res=estimate_sup_init(P,D,H)\n",
    "    z_barre=res[1]\n",
    "    ordre=reverse(res[2]) # on reverse car on travaille à l'envers\n",
    "    if z_barre == 0\n",
    "        return estimate_sup_init(P,D,H)\n",
    "    end\n",
    "      \n",
    "# Initialisation des objet nécéssaires\n",
    "    penalties=0                           # Pas de pénalités au debut\n",
    "    temps_traitement=zeros(n)             # Pas de patients traités au début\n",
    "    ordre_actuel=zeros(n)\n",
    "    profondeur_actuelle=1                 # On se place en profondeur de 1 au début\n",
    "\n",
    "# Boucle pour avancer dans l'arbre\n",
    "    while true\n",
    "        \n",
    "    # On fait passer le patient suivant à la profondeur courante\n",
    "        ordre_actuel[profondeur_actuelle]=ordre_actuel[profondeur_actuelle]+1\n",
    "\n",
    "# Vérifications de placement dans l'arbre et de bon fonctionnement :\n",
    "                 \n",
    "     # Si un patient est traité 2 fois (présent 2 fois dans le vecteur ordre_actuel)\n",
    "        if sum(ordre_actuel.==ordre_actuel[profondeur_actuelle])>1 \n",
    "            # On continue la boucle pour passer au patient suivant dans la profondeur actuelle \n",
    "            ## --> on élague\n",
    "            continue \n",
    "        end\n",
    "        \n",
    "        # Si tous les patients ont été traités dans la profondeur actuelle \n",
    "        ## --> tous les cas de figures ont été traités à ce niveau\n",
    "        \n",
    "        # ordre_actuel[profondeur_actuelle]>n signifie qu'on est passé au patient n+1 dans la profondeur actuelle donc \n",
    "        # on n'est plus dans le cadre de l'arbre\n",
    "        if ordre_actuel[profondeur_actuelle]>n \n",
    "            \n",
    "            # Si en plus, on est revenu à la profondeur 1, on a fini de boucler sur tout notre arbre \n",
    "            ## --> on renvoie notre solution optimale\n",
    "            if profondeur_actuelle==1\n",
    "                return [z_barre,reverse(ordre)]\n",
    "            \n",
    "            # Si nous ne sommes pas encore revenus à la profondeur 1\n",
    "            else\n",
    "                # On élague en remontant d'une profondeur (car toutes les branches à ce niveau ont été parcourues)\n",
    "                # On remet le compteur des patients à 0 pour la profondeur actuelle\n",
    "                ordre_actuel[profondeur_actuelle]=0\n",
    "                temps_traitement[profondeur_actuelle]=0\n",
    "                # On remet le calcul des pénalités à 0\n",
    "                penalties=0\n",
    "                # On remonte d'une profondeur\n",
    "                profondeur_actuelle=profondeur_actuelle-1\n",
    "                continue\n",
    "            end\n",
    "        end\n",
    "\n",
    "# Vérification de l'optimalité\n",
    "        \n",
    "        # GESTION DES TEMPS DE TRAITEMENT\n",
    "        \n",
    "        # Dans cette version, les temps_traitement sont égaux aux temps de passages des patients stockés dans ordre_actuel\n",
    "        ## --> On donne à la fonction compute_penalties_v2 les sommes cumulées des temps_traitement\n",
    "\n",
    "        temps_traitement[profondeur_actuelle]=D[trunc(Int,ordre_actuel[profondeur_actuelle])]\n",
    "        \n",
    "        # Estimation des pénalités au niveau de profondeur actuel (borne duale)\n",
    "        penalties=compute_penalties_v2(P,H,D,cumsum(temps_traitement),ordre_actuel)\n",
    "        \n",
    "\n",
    "        # Si la borne duale est moins bonne que notre solution actuelle\n",
    "        if penalties >= z_barre \n",
    "            # On continue le bouclage pour passer au patient suivant dans la profondeur actuelle \n",
    "            ## --> on élague\n",
    "            continue\n",
    "            \n",
    "        # Si, au contraire, la borne duale est meilleure \n",
    "        else \n",
    "            \n",
    "            # Si nous ne sommes pas encore arrivé au bout (tous les patients ne sont pas encore traités)\n",
    "            if profondeur_actuelle != n\n",
    "                # On continue sur cette branche de l'arbre (ajout d'une unité de profondeur) \n",
    "                profondeur_actuelle=profondeur_actuelle+1\n",
    "                continue\n",
    "\n",
    "            # Si nous sommes arrivés au bout de l'arbre\n",
    "            else \n",
    "                # Nous avons trouvé une meilleure solution que la précédente !\n",
    "                # On remplace donc l'ancienne solution par cette meilleure solution\n",
    "                z_barre=penalties\n",
    "                ordre=copy(ordre_actuel)\n",
    "                \n",
    "                # Ici, \"continue\" va nous mener à un autre tour de boucle. \n",
    "                \n",
    "                # Forcément, vu que tous les patients ont été traités, passer au patient suivant dans la profondeur n\n",
    "                ## va mener à une duplication de patients dans le vecteur. \n",
    "                \n",
    "                # Ceci va encore mener à d'autres tours de boucle jusqu'à passer au patient n+1 dans la profondeur \n",
    "                ## actuelle (on ne sera plus dans le cadre de l'arbre).\n",
    "                \n",
    "                # Ensuite, il remontera donc d'une profondeur et continuera sa course le long d'une autre branche de \n",
    "                # profondeur n-1, etc...\n",
    "                \n",
    "            end\n",
    "        end\n",
    "    end\n",
    "end\n"
   ]
  },
  {
   "attachments": {},
   "cell_type": "markdown",
   "metadata": {},
   "source": [
    "Cette deuxième version fonctionne ainsi de la même manière que la première, à la différence que les pénalités sont calculées autrement (comme expliqué plus haut).\n",
    "\n",
    "Cela implique donc que le vecteur *temps_traitement* est traité autrement, en stockant cette fois, à l'indice i, la durée de traitement du patient placé à l'indice i du vecteur *ordre_actuel*. \n",
    "\n",
    "On fait également appel à la fonction *compute_penalties_v2* et non plus à la fonction *compute_penalties_v1*."
   ]
  },
  {
   "attachments": {},
   "cell_type": "markdown",
   "metadata": {},
   "source": [
    "## 2 - Formulation PLNE\n",
    "\n",
    "Dans le cadre de ce 3e algorithme, l'objectif va être d'écrire le problème considéré en PLNE. Nous pourrons ensuite utiliser une résolution de ce problème linéaire en nombres entiers, à l'aide d'un solveur tel que HiGHS.\n",
    "\n",
    "Pour cette formulation, nous allons utiliser 3 variables différentes : \n",
    "\n",
    "- $x_{i,j} \\in \\left\\{0,1 \\right\\} = 1 \\iff \\textit{ le patient } i \\textit{ passe avant le patient j, } ~~\\forall~ i,j \\in \\left\\{1,2,...,n \\right\\}$\n",
    "\n",
    "- $r_i \\ge 0 \\textit{ : correspond au retard du patient i par rapport à sa date prévue au pire}$\n",
    "\n",
    "- $t_i \\ge 0 \\textit{ : correspond à l'instant de passage du patient i}$\n",
    "\n",
    "\n",
    "Les contraintes considérées pour ces variables sont les suivantes :\n",
    "\n",
    "- la variable $x_{i,j}$ traduit un ordre total, nous devons donc considérer deux contraintes :  \n",
    "\n",
    "    Transitivité : si le patient i passe avant le patient j, et le patient j passe avant le patient k, alors le patient i passe avant le patient k\n",
    "    \n",
    "$$\\forall~i,j,k \\in \\left\\{1,...,n \\right\\}, ~~ i \\neq j, i \\neq k, j \\neq k,~~ x_{i,k} \\ge x_{i,j}+x_{j,k}-1$$ \n",
    "\n",
    "    Ordre total : soit le patient i passe avant le patient j, soit j passe avant i\n",
    "\n",
    "$$\\forall~i,j \\in \\left\\{1,...,n \\right\\}, ~~ i \\neq j,~~ x_{i,j} + x_{j,i}=1~~,~ et~~ \\forall i \\in \\left\\{1,...,n \\right\\},~~ x_{i,i}=0$$\n",
    "\n",
    "- la variable $t_i$ correspond à l'instant de passage du patient i : cet instant correspond à la somme des durées de rdv de chaque patient passé avant lui\n",
    "$$\\forall i \\in \\left\\{1,...,n \\right\\},~~ t_i = \\sum_{j = 1}^n x_{j,i}.D_j$$\n",
    "\n",
    "- la variable $r_i$ correspond au retard par rapport à l'instant de passage au pire du patient : $r_i = max(0,t_i-H_i)$. Cela se traduit avec deux contraintes (uniquement 2 car nous souhaitons ici minimiser ces retards) :\n",
    "$$\\forall i \\in \\left\\{1,...,n \\right\\},~~ r_i \\ge 0 ~~,~et~~ r_i \\ge t_i-H_i$$\n",
    "\n",
    "\n",
    "Bien entendu, dans ce problème, l'objectif est de minimiser la pénalité engendrée par l'ordre de passage des patients, la fonction objectif s'écrit donc : $$min \\sum_{i=1}^n r_i.P_i$$\n",
    "\n",
    "\n",
    "Notre problème est donc défini, et nous allons pouvoir écrire une méthode *PLNE*, permettant de construire un tel modèle."
   ]
  },
  {
   "cell_type": "code",
   "execution_count": 7,
   "metadata": {},
   "outputs": [
    {
     "data": {
      "text/plain": [
       "PLNE (generic function with 1 method)"
      ]
     },
     "execution_count": 7,
     "metadata": {},
     "output_type": "execute_result"
    }
   ],
   "source": [
    "function PLNE(P,D,H)\n",
    "    \"\"\"\n",
    "    Inputs :\n",
    "        P : vecteur (nx1) des pénalités associées au retard de chaque patient\n",
    "        D : vecteur (nx1) des durées de rdv de chaque patient\n",
    "        H : vecteur (nx1) des horaires de passage au plus tard de chaque patient\n",
    "    Output : \n",
    "        model : modèle décrit ci-dessus\n",
    "    \"\"\"\n",
    "    # HiGHS solver\n",
    "    model = Model(HiGHS.Optimizer); \n",
    "    # On décide de ne pas afficher les outputs du modèle\n",
    "    set_optimizer_attribute(model, \"output_flag\", false) \n",
    "    \n",
    "    # Variables\n",
    "    n=length(P)\n",
    "    I=Array(1:n)\n",
    "        \n",
    "    ## r[i] = retard du patient i par rapport à sa date prévue au pire\n",
    "    @variable(model, r[I]>=0);\n",
    "    \n",
    "    ## t[i] = instant de passage du patient i\n",
    "    @variable(model, t[I]>=0);\n",
    "    \n",
    "    ## x[i,j] = 1 ssi le patient i passe avant le patient j\n",
    "    @variable(model, x[I,I], Bin);\n",
    "\n",
    "    # Fonction objectif : minimiser les pénalités liés aux retards\n",
    "    @objective(model, Min, sum(r[i]*P[i] for i in I));\n",
    "    \n",
    "    # Contraintes\n",
    "    \n",
    "    ## Contraintes liées à l'ordre total x[i,j]\n",
    "    ### Contrainte de transitivité\n",
    "    @constraint(model, [i in I, j in I, k in I; i!=j && i!=k && j!=k], x[i,k]>=x[i,j]+x[j,k]-1)\n",
    "    ### Ordre total\n",
    "    @constraint(model, [i in I, j in I; i!=j], x[i,j]==1-x[j,i])\n",
    "    \n",
    "    ## Contrainte liée à l'instant de passage\n",
    "    @constraint(model, [i in I], t[i]==sum(D[j]*x[j,i] for j in I))\n",
    "    \n",
    "    ## Contraintes liées au retard mesuré\n",
    "    @constraint(model, [i in I], r[i]>=t[i]-H[i])\n",
    "\n",
    "    return model;\n",
    "end"
   ]
  },
  {
   "attachments": {},
   "cell_type": "markdown",
   "metadata": {},
   "source": [
    "Ensuite, nous pouvons écrire une seconde fonction, qui résout le modèle, et détermine l'ordre de passage des patients.\n",
    "\n",
    "Pour déterminer cet ordre de passage, nous allons utiliser les instants de passages de chaque individu (variable $t$), et nous allons récupérer l'ordre correspondant à l'ordonnancement croissant de ces instants."
   ]
  },
  {
   "cell_type": "code",
   "execution_count": 8,
   "metadata": {},
   "outputs": [
    {
     "data": {
      "text/plain": [
       "solve_PLNE (generic function with 1 method)"
      ]
     },
     "execution_count": 8,
     "metadata": {},
     "output_type": "execute_result"
    }
   ],
   "source": [
    "function solve_PLNE(model)\n",
    "    \"\"\"\n",
    "    Input :\n",
    "        model : modèle à résoudre\n",
    "    Outputs : \n",
    "        terminaton_status(model) : état de la solution \n",
    "        objective_value(model) : valeur optimale de la solution\n",
    "        indices : ordre associé à la solution\n",
    "    \"\"\"\n",
    "    # On résout le PLNE\n",
    "    optimize!(model); \n",
    "    # On récupère l'ordre de passage des patients\n",
    "    t=value.(model[:t])\n",
    "    T=convert(Array, t)\n",
    "    indices=sortperm(T)\n",
    "    \n",
    "    return ([termination_status(model), objective_value(model),indices]);\n",
    "end"
   ]
  },
  {
   "attachments": {},
   "cell_type": "markdown",
   "metadata": {},
   "source": [
    "## 3 - Branch & Bound basé sur la relaxation linéaire"
   ]
  },
  {
   "attachments": {},
   "cell_type": "markdown",
   "metadata": {},
   "source": [
    "Nous allons, dans cette partie, implémenter un 3e algorithme de B&B.\n",
    "\n",
    "Celui-ci est assez différent des deux premières implémentations de type B&B. En effet, ici, nous allons nous baser sur la relaxation linéaire de la formulation en PLNE vue précédemment.\n",
    "\n",
    "L'idée est donc la suivante : \n",
    "- on calcule une borne supérieure $\\overline{z}$ du problème, et on garde en mémoire l'ordre associé\n",
    "- on construit le modèle global, sans contrainte supplémentaire : on résout alors sa relaxation linéaire pour obtenir une borne inférieure $\\widetilde{z}$.\n",
    "\n",
    "Plusieurs cas de figure peuvent être rencontrés : \n",
    "- $\\widetilde{z} \\ge \\overline{z}$ : l'ordre trouvé est déjà optimal\n",
    "- $\\widetilde{z} < \\overline{z}$ :\n",
    "    - si la solution $\\widetilde{x}$ est réalisable (dans $\\mathbb{Z}$), on met à jour la borne supérieure ($\\overline{z} \\gets \\widetilde{z}$ et on met à jour l'ordre associé, puis on élague)\n",
    "    - sinon, on va descendre dans l'arbre : \n",
    "        - on détermine la composante de $\\widetilde{x}_{i,j}$ la plus fractionnaire (la plus proche de 0.5)\n",
    "        - on crée deux noeuds fils, avec deux contraintes supplémentaires disjointes : $x_{i,j} \\ge 1$ et $x_{i,j} \\le 0$\n",
    "        - on se déplace vers le noeud caractérisé par $x_{i,j} \\le 0$, on construit le modèle associé, avec cette nouvelle contrainte, et on met à jour $\\widetilde{z}$, $\\widetilde{x}$\n",
    "        \n",
    "Arrivé à ce noeud, on réalise un raisonnement analogue au précédent :\n",
    "- $\\widetilde{z} \\ge \\overline{z}$ : on élague (on remonte dans l'arbre)\n",
    "- $\\widetilde{z} < \\overline{z}$ :\n",
    "    - si la solution $\\widetilde{x}$ est réalisable (dans $\\mathbb{Z}$), on met à jour la borne supérieure ($\\overline{z} \\gets \\widetilde{z}$ et on met à jour l'ordre associé, puis on élague : on remonte dans l'arbre)\n",
    "    - sinon, on va descendre dans l'arbre : \n",
    "        - on détermine la composante de $\\widetilde{x}_{i,j}$ la plus fractionnaire (la plus proche de 0.5)\n",
    "        - on crée deux noeuds fils, avec une contrainte supplémentaire : $x_{i,j} \\ge 1$ ou $x_{i,j} \\le 0$\n",
    "        - on se déplace vers le noeud caractérisé par $x_{i,j} \\le 0$, on construit le modèle associé, avec cette nouvelle contrainte, et on met à jour $\\widetilde{z}$, $\\widetilde{x}$\n",
    "        \n",
    "Et ainsi de suite...\n",
    "\n",
    "\n",
    "Ainsi, comme pour les deux B&B précédents, nous opterons pour un parcours en profondeur. Ce choix réside principalement dans le fait que ce type de parcours nous permet de se déplacer dans l'arbre sans devoir garder en mémoire chaque modèle construit à chaque niveau de l'arbre."
   ]
  },
  {
   "attachments": {},
   "cell_type": "markdown",
   "metadata": {},
   "source": [
    "#### $\\to$ Fonction *generate_model*\n",
    "\n",
    "Nous commençons par construire une méthode permettant de construire le modèle considéré à chaque noeud. Celle-ci prend 4 paramètres : P,D,H (utiles pour construire le modèle de base), et un vecteur *contraintes*, contenant les contraintes ajoutées au modèle initial.\n",
    "\n",
    "Ces contraintes seront codées de la manière suivante :  \n",
    "- pour une contrainte $x_{i,j} \\ge 1$, la contrainte vaudra [i ,j , 1]\n",
    "- pour une contrainte $x_{i,j} \\le 0$, la contrainte vaudra [i ,j , 0]\n",
    "\n",
    "Dans le nouveau B&B, nous créerons un vecteur de contraintes (nommé *contraintes_actuelles*), contenant toutes les contraintes supplémentaires du modèle initial. Nous ajouterons ainsi de manière itérative chaque contrainte supplémentaire à la fin de ce vecteur."
   ]
  },
  {
   "cell_type": "code",
   "execution_count": 9,
   "metadata": {},
   "outputs": [
    {
     "data": {
      "text/plain": [
       "generate_model (generic function with 1 method)"
      ]
     },
     "execution_count": 9,
     "metadata": {},
     "output_type": "execute_result"
    }
   ],
   "source": [
    "function generate_model(P,D,H,contraintes)\n",
    "    \"\"\"\n",
    "    Inputs :\n",
    "        P : vecteur (nx1) des pénalités associées au retard de chaque patient\n",
    "        D : vecteur (nx1) des durées de rdv de chaque patient\n",
    "        H : vecteur (nx1) des horaires de passage au plus tard de chaque patient\n",
    "        contraintes : vecteur contenant les contraintes supplémentaires\n",
    "    Output : \n",
    "        model : modèle construit\n",
    "    \"\"\"\n",
    "    # HiGHS solver\n",
    "    model = Model(HiGHS.Optimizer); \n",
    "    # On décide de ne pas afficher les outputs du modèle\n",
    "    set_optimizer_attribute(model, \"output_flag\", false) \n",
    "    \n",
    "    # Variables\n",
    "    n=length(P)\n",
    "    I=Array(1:n)\n",
    "        \n",
    "    ## r[i] = retard du patient i par rapport à sa date prévue au pire\n",
    "    @variable(model, r[I]>=0);\n",
    "    \n",
    "    ## t[i] = instant de passage du patient i\n",
    "    @variable(model, t[I]>=0);\n",
    "    \n",
    "    ## x[i,j] = 1 ssi le patient i passe avant le patient j\n",
    "    @variable(model, x[I,I], Bin);\n",
    "\n",
    "    # Fonction objectif : minimiser les pénalités liés aux retards\n",
    "    @objective(model, Min, sum(r[i]*P[i] for i in I));\n",
    "    \n",
    "    # Contraintes\n",
    "    \n",
    "    ## Contraintes liées à l'ordre total x[i,j]\n",
    "    ### Contrainte de transitivité\n",
    "    @constraint(model, [i in I, j in I, k in I; i!=j && i!=k && j!=k], x[i,k]>=x[i,j]+x[j,k]-1)\n",
    "    ### Ordre total\n",
    "    @constraint(model, [i in I, j in I; i!=j], x[i,j]==1-x[j,i])\n",
    "    \n",
    "    ## Contrainte liée à l'instant de passage\n",
    "    @constraint(model, [i in I], t[i]==sum(D[j]*x[j,i] for j in I))\n",
    "    \n",
    "    ## Contraintes liées au retard mesuré\n",
    "    @constraint(model, [i in I], r[i]>=t[i]-H[i])\n",
    "    \n",
    "    ## On ajoute les contraintes supplémentaires\n",
    "    for c in contraintes\n",
    "        @constraint(model, x[c[1],c[2]]==c[3])\n",
    "    end\n",
    "\n",
    "    return model;\n",
    "end"
   ]
  },
  {
   "attachments": {},
   "cell_type": "markdown",
   "metadata": {},
   "source": [
    "Nous construisons également une fonction *solve_relaxation*, qui sera utilisée à chaque noeud de l'arbre. Celle-ci résout la relaxation linéaire du modèle considéré."
   ]
  },
  {
   "cell_type": "code",
   "execution_count": 10,
   "metadata": {},
   "outputs": [
    {
     "data": {
      "text/plain": [
       "solve_relaxation (generic function with 1 method)"
      ]
     },
     "execution_count": 10,
     "metadata": {},
     "output_type": "execute_result"
    }
   ],
   "source": [
    "function solve_relaxation(model)\n",
    "    \"\"\"\n",
    "    Input :\n",
    "        model : modèle dont on veut résoudre la relaxation\n",
    "    Output : \n",
    "        model : relaxation du modèle (résolue)\n",
    "    \"\"\"\n",
    "    # On résout la relaxation\n",
    "    undo = relax_integrality(model);\n",
    "    set_optimizer_attribute(model, \"output_flag\", false) # mute solvers' outputs \n",
    "    optimize!(model); \n",
    "    # On renvoie le modèle\n",
    "    return model;\n",
    "end"
   ]
  },
  {
   "attachments": {},
   "cell_type": "markdown",
   "metadata": {},
   "source": [
    "#### $\\to$ Fonctions *getOrdre* et *getX*\n",
    "\n",
    "A chaque noeud de notre arbre, nous devons récupérer la matrice $\\widetilde{X}$, solution de la relaxation du noeud considéré. C'est pourquoi nous créons une fonction *getX*, permettant de récupérer cette variable pour un modèle donné.\n",
    "\n",
    "Dans cette fonction, nous testons également si la matrice obtenue est dans $\\mathbb{Z}$ (si $\\forall~i,j \\in \\left\\{1,...,n \\right\\},~~x_{i,j} \\in \\left\\{ 0,1 \\right\\}$). Cette information sera contenue dans la variable *dans_Z*."
   ]
  },
  {
   "cell_type": "code",
   "execution_count": 11,
   "metadata": {},
   "outputs": [
    {
     "data": {
      "text/plain": [
       "getX (generic function with 1 method)"
      ]
     },
     "execution_count": 11,
     "metadata": {},
     "output_type": "execute_result"
    }
   ],
   "source": [
    "function getX(model)\n",
    "    \"\"\"\n",
    "    Input :\n",
    "        model : modèle relaxé résolu dont on souhaite récupérer la solution\n",
    "    Outputs : \n",
    "        X : matrice X du modèle \n",
    "        dans_Z : variable booléenne à 1 si toutes les composantes de X sont binaires\n",
    "    \"\"\"\n",
    "    # On récupère la variable X\n",
    "    tab=value.(model[:x])\n",
    "    X=convert(Array, tab)\n",
    "    # On teste si la solution est réalisable (x_{i,j}=0 ou x_{i,j}=1 pour tout i,j)\n",
    "    dans_Z=all(elements->isinteger(elements),X)\n",
    "    return([X,dans_Z])   \n",
    "end"
   ]
  },
  {
   "attachments": {},
   "cell_type": "markdown",
   "metadata": {},
   "source": [
    "Dans le cas où la solution de la relaxation est réalisable, nous devons récupérer l'ordre associé à cette solution. Nous devons donc déterminer l'ordre de passage des patients pour un modèle donné.\n",
    "\n",
    "Comme nous avions pu faire dans la partie précédente, nous pouvons récupérer cet ordre en récupérant les instants de passage de chaque patient."
   ]
  },
  {
   "cell_type": "code",
   "execution_count": 12,
   "metadata": {},
   "outputs": [
    {
     "data": {
      "text/plain": [
       "getOrdre (generic function with 1 method)"
      ]
     },
     "execution_count": 12,
     "metadata": {},
     "output_type": "execute_result"
    }
   ],
   "source": [
    "function getOrdre(model)\n",
    "    \"\"\"\n",
    "    Input :\n",
    "        model : modèle relaxé dont on souhaite déterminer l'ordre\n",
    "    Output : \n",
    "        indices : ordre de passage\n",
    "    \"\"\"\n",
    "    # On récupère les instants de passage\n",
    "    t=value.(model[:t])\n",
    "    T=convert(Array, t)\n",
    "    # On récupère l'ordre de passage\n",
    "    indices=sortperm(T)\n",
    "    return(indices)   \n",
    "end"
   ]
  },
  {
   "attachments": {},
   "cell_type": "markdown",
   "metadata": {},
   "source": [
    "#### $\\to$ Algorithme *Branch_Bound_v3*"
   ]
  },
  {
   "cell_type": "code",
   "execution_count": 13,
   "metadata": {},
   "outputs": [
    {
     "data": {
      "text/plain": [
       "Branch_Bound_v3 (generic function with 1 method)"
      ]
     },
     "execution_count": 13,
     "metadata": {},
     "output_type": "execute_result"
    }
   ],
   "source": [
    "function Branch_Bound_v3(P,D,H)\n",
    "    \"\"\"\n",
    "    Inputs :\n",
    "        P : vecteur (nx1) des pénalités associées au retard de chaque patient\n",
    "        D : vecteur (nx1) des durées de rdv de chaque patient\n",
    "        H : vecteur (nx1) des horaires de passage au plus tard de chaque patient\n",
    "    Output : \n",
    "        z_state : état de la solution (rendu uniquement si au moins une relaxation est réalisée)\n",
    "        z_barre : solution du problème\n",
    "        ordre : ordre de passage de la solution\n",
    "    \"\"\"\n",
    "    # Nombre de patients\n",
    "    n=length(D)\n",
    "    \n",
    "    # Détermination d'une borne primale\n",
    "    res=estimate_sup_init(P,D,H)\n",
    "    z_barre=res[1]\n",
    "    ordre=res[2]\n",
    "    if z_barre==0\n",
    "        # Si la borne supérieure est nulle, elle est optimale --> on renvoie la solution\n",
    "        return [z_barre,ordre]\n",
    "    end\n",
    "    # Détermination d'une borne duale\n",
    "    modeleCourant=generate_model(P,D,H,[])         # On initialise le modèle en PLNE sans contraintes supplémentaires\n",
    "    solve_relaxation(modeleCourant)                # On résout la relaxation linéaire de ce PLNE\n",
    "    z_tilde=objective_value(modeleCourant)         # Récupération de la borne inférieure\n",
    "    z_state=termination_status(modeleCourant)      # Etat de la solution\n",
    "    getteur=getX(modeleCourant)                    # Récupération de la matrice X associée\n",
    "    x_tilde=getteur[1]\n",
    "    dans_Z=getteur[2]                              # Indicateur donnant si X est dans Z ou non\n",
    "    \n",
    "    \n",
    "    elague=false    # Variable binaire : à un noeud donné, =0 si on branche / =1 si on élague\n",
    "    profondeur=1    # Profondeur de parcours de l'arbre\n",
    "    \n",
    "    # Tableau gardant en mémoire les contraintes \n",
    "    contraintes_actuelles=[]         # Contraintes du modèle courant\n",
    "    \n",
    "    if z_barre==z_tilde \n",
    "        # Cas où la borne supérieure est déjà optimale / borne primale nulle\n",
    "        return [z_barre,ordre]\n",
    "    else \n",
    "        # Dans le cas contraire, on commence le parcours de l'arbre\n",
    "        while(true)\n",
    "            if (z_barre<=z_tilde)\n",
    "                # Cas où la relaxation donne une borne inférieure plus grande que z_barre --> On élague\n",
    "                elague=true\n",
    "            end \n",
    "            if (dans_Z)\n",
    "                # Cas où le x_tilde a toutes ses composantes entières (solution réalisable)\n",
    "                if (z_tilde < z_barre)\n",
    "                    #  si la valeur optimale est meilleure : on met à jour z_barre \n",
    "                    z_barre=copy(z_tilde)\n",
    "                    x_barre=copy(x_tilde)\n",
    "                    ordre=getOrdre(modeleCourant)\n",
    "                end\n",
    "                # Dans tous les cas, on élague\n",
    "                elague = true \n",
    "            end\n",
    "            \n",
    "            \n",
    "            if (!elague)\n",
    "                # Cas où x_tilde est non réalisable pour Pk\n",
    "                ##  --> On recherche la composante la plus fractionnaire\n",
    "                prox=abs.(x_tilde.-0.5)\n",
    "                indices=argmin(prox)\n",
    "                i=indices[1]\n",
    "                j=indices[2]\n",
    "\n",
    "                # On détermine la contrainte à ajouter au modèle\n",
    "                ## On code la contrainte avec 2 paramètres : \n",
    "                ##         - (i,j) : indices de la composante la plus fractionnaire\n",
    "                ##         - k (=0 ou =1): contrainte x_ij == k\n",
    "                nouvelleContrainte=[i,j,0]\n",
    "                \n",
    "                # On ajoute la contrainte à la liste des contraintes traitées\n",
    "                push!(contraintes_actuelles,nouvelleContrainte)\n",
    "\n",
    "                # Modification du modèle\n",
    "                modeleCourant=generate_model(P,D,H,contraintes_actuelles)   # On ajoute la contrainte au modèle\n",
    "                \n",
    "                # On a ici ajouté une contrainte : on descend d'un rang dans l'arbre\n",
    "                profondeur=profondeur+1\n",
    "            \n",
    "            else\n",
    "                # On élague le noeud\n",
    "                elague=false     \n",
    "                \n",
    "                # On remonte jusqu'au premier noeud pas encore traité selon un parcours en profondeur\n",
    "                noeud_trouve=false          # Devient \"false\" lorsque l'on se trouve à un nouveau noeud\n",
    "                \n",
    "                while(!noeud_trouve)\n",
    "                    # Tant qu'un tel noeud n'est pas trouvé\n",
    "                    \n",
    "                    # On remonte d'un niveau\n",
    "                    profondeur=profondeur-1\n",
    "                    # On supprime la dernière contrainte ajoutée\n",
    "                    contrainte_a_supprimer=contraintes_actuelles[length(contraintes_actuelles)]  \n",
    "                    deleteat!(contraintes_actuelles, findall(x->x==contrainte_a_supprimer,contraintes_actuelles))\n",
    "                    \n",
    "                    # On détermine la contrainte complémentaire de celle supprimée\n",
    "                    contrainteC=copy(contrainte_a_supprimer)\n",
    "                    contrainteC[3]=abs(1-contrainteC[3])\n",
    "                    \n",
    "                    # Si la contrainte complémentaire n'a pas été traitée\n",
    "                    if (contrainteC[3]==1)\n",
    "                        # On ajoute la contrainte complémentaire aux contraintes traitées\n",
    "                        push!(contraintes_actuelles,contrainteC)\n",
    "                        \n",
    "                        # On l'ajoute au modèle\n",
    "                        modeleCourant=generate_model(P,D,H,contraintes_actuelles)\n",
    "                        \n",
    "                        # On est redescendu dans l'arbre : on sort de la boucle while et on incrémente la profondeur\n",
    "                        noeud_trouve=true\n",
    "                        profondeur=profondeur+1  \n",
    "                    end\n",
    "                    \n",
    "                    if !noeud_trouve && profondeur==1\n",
    "                        # On est remonté au probleme initial \n",
    "                        ## --> tous les cas ont été traités : on renvoie z_barre et ordre\n",
    "                        return [z_state, z_barre, ordre]\n",
    "                    end\n",
    "    \n",
    "                end\n",
    "            end\n",
    "            # On résout la relaxation de Pk\n",
    "            solve_relaxation(modeleCourant)\n",
    "            # On met à jour la solution relaxée\n",
    "            z_tilde=objective_value(modeleCourant)         # Récupération de la borne inférieure\n",
    "            z_state=termination_status(modeleCourant)      # Etat de la solution\n",
    "            getteur=getX(modeleCourant)                    # Récupération de la matrice X associée\n",
    "            x_tilde=getteur[1]\n",
    "            dans_Z=getteur[2]                              # Indicateur donnant si X est dans Z ou non\n",
    "        end\n",
    "    end  \n",
    "end"
   ]
  },
  {
   "attachments": {},
   "cell_type": "markdown",
   "metadata": {},
   "source": [
    "#### $\\to$ Fonction *printBB*"
   ]
  },
  {
   "attachments": {},
   "cell_type": "markdown",
   "metadata": {},
   "source": [
    "Définition d'un fonction d'affichage des solutions, qui permet de se concentrer sur l'ordre de passage de certains patients (en les affichant en rouge), ou d'afficher tous les patients d'une différente couleur, dans l'ordre, afin de pouvoir comparer les résultats de différentes instances visuellement plus facilement."
   ]
  },
  {
   "cell_type": "code",
   "execution_count": 14,
   "metadata": {},
   "outputs": [
    {
     "name": "stdout",
     "output_type": "stream",
     "text": [
      "Pénalités : 137\n",
      "Ordre de passage :\n",
      "\u001b[30m1-->\u001b[39m\u001b[38;5;2m Patient 1\u001b[39m\n",
      "\u001b[30m2-->\u001b[39m\u001b[38;5;3m Patient 2\u001b[39m\n",
      "\u001b[30m3-->\u001b[39m\u001b[38;5;5m Patient 4\u001b[39m\n",
      "\u001b[30m4-->\u001b[39m\u001b[38;5;4m Patient 3\u001b[39m\n",
      "\n",
      "Pénalités : 137\n",
      "Ordre de passage :\n",
      "\u001b[30m1 -->\u001b[39m\u001b[34m Patient 1\u001b[39m\n",
      "\u001b[30m2 -->\u001b[39m\u001b[34m Patient 2\u001b[39m\n",
      "\u001b[30m3 -->\u001b[39m\u001b[31m Patient 4\u001b[39m\n",
      "\u001b[30m4 -->\u001b[39m\u001b[34m Patient 3\u001b[39m\n"
     ]
    }
   ],
   "source": [
    "function printBB(a, patients_remarquables=[])\n",
    "    \"\"\"\n",
    "    Inputs : \n",
    "        a : vecteur rendu par l'algorithme qui résout le problème\n",
    "        patients_remarquables : patients que l'on souhaite étudier    \n",
    "    \"\"\"\n",
    "    \n",
    "    if a[1] == OPTIMAL\n",
    "        penalite = trunc(Int,a[2])\n",
    "        ordre = a[3]\n",
    "    else\n",
    "        penalite = trunc(Int,a[1])\n",
    "        ordre = a[2]\n",
    "    end\n",
    "        \n",
    "    print(\"Pénalités : \")\n",
    "    println(penalite)\n",
    "    println(\"Ordre de passage :\")\n",
    "    \n",
    "    if length(patients_remarquables)==0\n",
    "        for i in 1:length(ordre) \n",
    "            printstyled(i,\"-->\";color = :black)\n",
    "            printstyled(\" Patient \",trunc(Int,ordre[i]),\"\\n\"; color = trunc(Int,ordre[i]+1))\n",
    "        end\n",
    "        \n",
    "        \n",
    "    else \n",
    "        for i in 1:length(ordre) \n",
    "            if ordre[i] in patients_remarquables \n",
    "                col = :red\n",
    "            else \n",
    "                col= :blue\n",
    "            end\n",
    "            printstyled(i,\" -->\";color = :black)\n",
    "            printstyled(\" Patient \",trunc(Int,ordre[i]),\"\\n\"; color = col)\n",
    "        end\n",
    "    end\n",
    "end\n",
    "\n",
    "# Exemple :\n",
    "P=[5,4,1,2]\n",
    "D=[14,15,16,13]\n",
    "H=[1,2,3,4]\n",
    "## Impression de l'ordre\n",
    "printBB(Branch_Bound_v2(P,D,H))\n",
    "print(\"\\n\")\n",
    "## Impression de l'ordre en se concentrant sur le patient 4\n",
    "printBB(Branch_Bound_v2(P,D,H),[4])\n"
   ]
  },
  {
   "attachments": {},
   "cell_type": "markdown",
   "metadata": {},
   "source": [
    "Cette fonction sera très utile, notamment dans la dernière partie de ce projet."
   ]
  }
 ],
 "metadata": {
  "@webio": {
   "lastCommId": null,
   "lastKernelId": null
  },
  "celltoolbar": "Format de la Cellule Texte Brut",
  "kernelspec": {
   "display_name": "Julia 1.9.4",
   "language": "julia",
   "name": "julia-1.9"
  },
  "language_info": {
   "file_extension": ".jl",
   "mimetype": "application/julia",
   "name": "julia",
   "version": "1.9.4"
  },
  "latex_envs": {
   "LaTeX_envs_menu_present": true,
   "autoclose": false,
   "autocomplete": true,
   "bibliofile": "biblio.bib",
   "cite_by": "apalike",
   "current_citInitial": 1,
   "eqLabelWithNumbers": true,
   "eqNumInitial": 1,
   "hotkeys": {
    "equation": "Ctrl-E",
    "itemize": "Ctrl-I"
   },
   "labels_anchors": false,
   "latex_user_defs": false,
   "report_style_numbering": false,
   "user_envs_cfg": false
  }
 },
 "nbformat": 4,
 "nbformat_minor": 4
}
